{
 "cells": [
  {
   "cell_type": "code",
   "execution_count": null,
   "metadata": {},
   "outputs": [],
   "source": [
    "while warunek_logiczny:\n",
    "    # to \n",
    "    # wszystko\n",
    "    # wykonuje się\n",
    "    # do momentu gdy warunek = True"
   ]
  },
  {
   "cell_type": "markdown",
   "metadata": {},
   "source": [
    "Zadanie: wyświetl wszystkie potęgi 2 od $2^0$ aż po $2^100$"
   ]
  },
  {
   "cell_type": "code",
   "execution_count": 5,
   "metadata": {},
   "outputs": [
    {
     "name": "stdout",
     "output_type": "stream",
     "text": [
      "2 do 0 = 1\n",
      "2 do 1 = 2\n",
      "2 do 2 = 4\n",
      "2 do 3 = 8\n",
      "2 do 4 = 16\n",
      "2 do 5 = 32\n"
     ]
    }
   ],
   "source": [
    "licznik = 0\n",
    "\n",
    "while licznik <= 5:\n",
    "    print('2 do', licznik, '=', 2 ** licznik)\n",
    "    licznik += 1"
   ]
  },
  {
   "cell_type": "code",
   "execution_count": 6,
   "metadata": {},
   "outputs": [
    {
     "data": {
      "text/plain": [
       "6"
      ]
     },
     "execution_count": 6,
     "metadata": {},
     "output_type": "execute_result"
    }
   ],
   "source": [
    "licznik"
   ]
  },
  {
   "cell_type": "code",
   "execution_count": 9,
   "metadata": {},
   "outputs": [
    {
     "ename": "KeyboardInterrupt",
     "evalue": "",
     "output_type": "error",
     "traceback": [
      "\u001b[0;31m---------------------------------------------------------------------------\u001b[0m",
      "\u001b[0;31mKeyboardInterrupt\u001b[0m                         Traceback (most recent call last)",
      "\u001b[0;32m<ipython-input-9-9d33102e000a>\u001b[0m in \u001b[0;36m<module>\u001b[0;34m()\u001b[0m\n\u001b[1;32m      1\u001b[0m \u001b[0mliczba\u001b[0m \u001b[0;34m=\u001b[0m \u001b[0;36m0\u001b[0m\u001b[0;34m\u001b[0m\u001b[0m\n\u001b[1;32m      2\u001b[0m \u001b[0mlista\u001b[0m \u001b[0;34m=\u001b[0m \u001b[0;34m[\u001b[0m\u001b[0;34m]\u001b[0m\u001b[0;34m\u001b[0m\u001b[0m\n\u001b[0;32m----> 3\u001b[0;31m \u001b[0;32mwhile\u001b[0m \u001b[0mliczba\u001b[0m \u001b[0;34m<=\u001b[0m \u001b[0;36m100\u001b[0m\u001b[0;34m:\u001b[0m\u001b[0;34m\u001b[0m\u001b[0m\n\u001b[0m\u001b[1;32m      4\u001b[0m     \u001b[0mlista\u001b[0m\u001b[0;34m.\u001b[0m\u001b[0mappend\u001b[0m\u001b[0;34m(\u001b[0m\u001b[0mliczba\u001b[0m\u001b[0;34m)\u001b[0m\u001b[0;34m\u001b[0m\u001b[0m\n",
      "\u001b[0;31mKeyboardInterrupt\u001b[0m: "
     ]
    }
   ],
   "source": [
    "liczba = 0\n",
    "lista = []\n",
    "while liczba <= 100:\n",
    "    lista.append(liczba)"
   ]
  },
  {
   "cell_type": "code",
   "execution_count": 10,
   "metadata": {},
   "outputs": [
    {
     "data": {
      "text/plain": [
       "76511970"
      ]
     },
     "execution_count": 10,
     "metadata": {},
     "output_type": "execute_result"
    }
   ],
   "source": [
    "len(lista)"
   ]
  },
  {
   "cell_type": "markdown",
   "metadata": {},
   "source": [
    "Zadanie: wyświetl wszystkie liczby z przedziału <0,100>, które są podzielne przez 2 lub przez 3."
   ]
  },
  {
   "cell_type": "code",
   "execution_count": 16,
   "metadata": {},
   "outputs": [
    {
     "name": "stdout",
     "output_type": "stream",
     "text": [
      "0\n",
      "2\n",
      "3\n",
      "4\n",
      "6\n",
      "8\n",
      "9\n",
      "10\n",
      "12\n",
      "14\n",
      "15\n",
      "16\n",
      "18\n",
      "20\n",
      "21\n",
      "22\n",
      "24\n",
      "26\n",
      "27\n",
      "28\n",
      "30\n",
      "32\n",
      "33\n",
      "34\n",
      "36\n",
      "38\n",
      "39\n",
      "40\n",
      "42\n",
      "44\n",
      "45\n",
      "46\n",
      "48\n",
      "50\n",
      "51\n",
      "52\n",
      "54\n",
      "56\n",
      "57\n",
      "58\n",
      "60\n",
      "62\n",
      "63\n",
      "64\n",
      "66\n",
      "68\n",
      "69\n",
      "70\n",
      "72\n",
      "74\n",
      "75\n",
      "76\n",
      "78\n",
      "80\n",
      "81\n",
      "82\n",
      "84\n",
      "86\n",
      "87\n",
      "88\n",
      "90\n",
      "92\n",
      "93\n",
      "94\n",
      "96\n",
      "98\n",
      "99\n",
      "100\n"
     ]
    }
   ],
   "source": [
    "liczba = 0\n",
    "\n",
    "while liczba <= 100:\n",
    "    if liczba % 2 == 0 or liczba % 3 == 0:    \n",
    "        print(liczba)\n",
    "    liczba += 1"
   ]
  },
  {
   "cell_type": "code",
   "execution_count": 18,
   "metadata": {},
   "outputs": [
    {
     "name": "stdin",
     "output_type": "stream",
     "text": [
      "Podaj hasło: marakuja\n"
     ]
    },
    {
     "name": "stdout",
     "output_type": "stream",
     "text": [
      "Śmiechom nie było końca.\n"
     ]
    }
   ],
   "source": [
    "dobre_haslo = 'marakuja'\n",
    "tajna_wiadomosc = 'Śmiechom nie było końca.'\n",
    "\n",
    "haslo = input(\"Podaj hasło:\")\n",
    "\n",
    "if haslo == dobre_haslo:\n",
    "    print(tajna_wiadomosc)\n",
    "else:\n",
    "    print('Złe hasło.')"
   ]
  },
  {
   "cell_type": "code",
   "execution_count": 19,
   "metadata": {},
   "outputs": [
    {
     "name": "stdin",
     "output_type": "stream",
     "text": [
      "Podaj hasło: oifjaes\n"
     ]
    },
    {
     "name": "stdout",
     "output_type": "stream",
     "text": [
      "Złe hasło\n"
     ]
    },
    {
     "name": "stdin",
     "output_type": "stream",
     "text": [
      "Podaj hasło: oea\n"
     ]
    },
    {
     "name": "stdout",
     "output_type": "stream",
     "text": [
      "Złe hasło\n"
     ]
    },
    {
     "name": "stdin",
     "output_type": "stream",
     "text": [
      "Podaj hasło: marauja\n"
     ]
    },
    {
     "name": "stdout",
     "output_type": "stream",
     "text": [
      "Złe hasło\n"
     ]
    },
    {
     "name": "stdin",
     "output_type": "stream",
     "text": [
      "Podaj hasło: marakuja\n"
     ]
    },
    {
     "name": "stdout",
     "output_type": "stream",
     "text": [
      "Śmiechom nie było końca.\n"
     ]
    }
   ],
   "source": [
    "dobre_haslo = 'marakuja'\n",
    "tajna_wiadomosc = 'Śmiechom nie było końca.'\n",
    "\n",
    "haslo = input(\"Podaj hasło:\")\n",
    "\n",
    "while haslo != dobre_haslo:\n",
    "    print('Złe hasło')\n",
    "    haslo = input(\"Podaj hasło:\")\n",
    "    \n",
    "print(tajna_wiadomosc)"
   ]
  },
  {
   "cell_type": "code",
   "execution_count": 20,
   "metadata": {},
   "outputs": [],
   "source": [
    "imiona = ['Ania', 'Basia', 'Kasia', 'Zosia', 'Czesia']"
   ]
  },
  {
   "cell_type": "code",
   "execution_count": 25,
   "metadata": {},
   "outputs": [
    {
     "data": {
      "text/plain": [
       "['Basia', 'Kasia', 'Zosia']"
      ]
     },
     "execution_count": 25,
     "metadata": {},
     "output_type": "execute_result"
    }
   ],
   "source": [
    "imiona[1:4]"
   ]
  },
  {
   "cell_type": "code",
   "execution_count": 26,
   "metadata": {},
   "outputs": [
    {
     "data": {
      "text/plain": [
       "'Ania Nowak'"
      ]
     },
     "execution_count": 26,
     "metadata": {},
     "output_type": "execute_result"
    }
   ],
   "source": [
    "imiona[0] + ' Nowak'"
   ]
  },
  {
   "cell_type": "code",
   "execution_count": 27,
   "metadata": {},
   "outputs": [
    {
     "data": {
      "text/plain": [
       "'Basia Nowak'"
      ]
     },
     "execution_count": 27,
     "metadata": {},
     "output_type": "execute_result"
    }
   ],
   "source": [
    "imiona[1] + ' Nowak'"
   ]
  },
  {
   "cell_type": "code",
   "execution_count": 30,
   "metadata": {},
   "outputs": [
    {
     "name": "stdout",
     "output_type": "stream",
     "text": [
      "Ania Nowak\n",
      "Basia Nowak\n",
      "Kasia Nowak\n",
      "Zosia Nowak\n",
      "Czesia Nowak\n"
     ]
    }
   ],
   "source": [
    "for i in imiona:\n",
    "    print(i + ' Nowak')"
   ]
  },
  {
   "cell_type": "code",
   "execution_count": 31,
   "metadata": {},
   "outputs": [
    {
     "data": {
      "text/plain": [
       "['Ania', 'Basia', 'Kasia', 'Zosia', 'Czesia']"
      ]
     },
     "execution_count": 31,
     "metadata": {},
     "output_type": "execute_result"
    }
   ],
   "source": [
    "imiona"
   ]
  },
  {
   "cell_type": "code",
   "execution_count": 32,
   "metadata": {},
   "outputs": [],
   "source": [
    "imiona_nazwiska = []\n",
    "\n",
    "for imie in imiona:\n",
    "    imiona_nazwiska.append(imie + ' Nowak')"
   ]
  },
  {
   "cell_type": "code",
   "execution_count": 33,
   "metadata": {},
   "outputs": [
    {
     "data": {
      "text/plain": [
       "['Ania Nowak', 'Basia Nowak', 'Kasia Nowak', 'Zosia Nowak', 'Czesia Nowak']"
      ]
     },
     "execution_count": 33,
     "metadata": {},
     "output_type": "execute_result"
    }
   ],
   "source": [
    "imiona_nazwiska"
   ]
  },
  {
   "cell_type": "code",
   "execution_count": 34,
   "metadata": {},
   "outputs": [
    {
     "data": {
      "text/plain": [
       "['Ania', 'Basia', 'Kasia', 'Zosia', 'Czesia']"
      ]
     },
     "execution_count": 34,
     "metadata": {},
     "output_type": "execute_result"
    }
   ],
   "source": [
    "imiona"
   ]
  },
  {
   "cell_type": "markdown",
   "metadata": {},
   "source": [
    "Teraz policzymy średnią ilości liter w imionach na liście."
   ]
  },
  {
   "cell_type": "code",
   "execution_count": 35,
   "metadata": {},
   "outputs": [
    {
     "data": {
      "text/plain": [
       "4"
      ]
     },
     "execution_count": 35,
     "metadata": {},
     "output_type": "execute_result"
    }
   ],
   "source": [
    "len('Ania')"
   ]
  },
  {
   "cell_type": "code",
   "execution_count": 36,
   "metadata": {},
   "outputs": [
    {
     "data": {
      "text/plain": [
       "9"
      ]
     },
     "execution_count": 36,
     "metadata": {},
     "output_type": "execute_result"
    }
   ],
   "source": [
    "len(\"euzebiusz\")"
   ]
  },
  {
   "cell_type": "code",
   "execution_count": 37,
   "metadata": {},
   "outputs": [
    {
     "data": {
      "text/plain": [
       "[4, 5, 5, 5, 6]"
      ]
     },
     "execution_count": 37,
     "metadata": {},
     "output_type": "execute_result"
    }
   ],
   "source": [
    "dlugosci = []\n",
    "\n",
    "for i in imiona:\n",
    "    dlugosci.append(len(i))\n",
    "    \n",
    "dlugosci"
   ]
  },
  {
   "cell_type": "code",
   "execution_count": 39,
   "metadata": {},
   "outputs": [
    {
     "data": {
      "text/plain": [
       "5.0"
      ]
     },
     "execution_count": 39,
     "metadata": {},
     "output_type": "execute_result"
    }
   ],
   "source": [
    "import numpy as np\n",
    "\n",
    "np.mean(dlugosci)"
   ]
  },
  {
   "cell_type": "code",
   "execution_count": 40,
   "metadata": {},
   "outputs": [
    {
     "data": {
      "text/plain": [
       "0.6324555320336759"
      ]
     },
     "execution_count": 40,
     "metadata": {},
     "output_type": "execute_result"
    }
   ],
   "source": [
    "np.std(dlugosci)"
   ]
  },
  {
   "cell_type": "code",
   "execution_count": 41,
   "metadata": {},
   "outputs": [
    {
     "data": {
      "text/plain": [
       "5.0"
      ]
     },
     "execution_count": 41,
     "metadata": {},
     "output_type": "execute_result"
    }
   ],
   "source": [
    "sum(dlugosci) / len(dlugosci)"
   ]
  },
  {
   "cell_type": "code",
   "execution_count": 42,
   "metadata": {},
   "outputs": [],
   "source": [
    "nazwisko = 'Brzęczyszczykiewicz'"
   ]
  },
  {
   "cell_type": "code",
   "execution_count": 43,
   "metadata": {},
   "outputs": [
    {
     "data": {
      "text/plain": [
       "'ę'"
      ]
     },
     "execution_count": 43,
     "metadata": {},
     "output_type": "execute_result"
    }
   ],
   "source": [
    "nazwisko[3]"
   ]
  },
  {
   "cell_type": "code",
   "execution_count": 44,
   "metadata": {},
   "outputs": [
    {
     "data": {
      "text/plain": [
       "'ęczyszc'"
      ]
     },
     "execution_count": 44,
     "metadata": {},
     "output_type": "execute_result"
    }
   ],
   "source": [
    "nazwisko[3:10]"
   ]
  },
  {
   "cell_type": "code",
   "execution_count": 45,
   "metadata": {},
   "outputs": [
    {
     "data": {
      "text/plain": [
       "'z'"
      ]
     },
     "execution_count": 45,
     "metadata": {},
     "output_type": "execute_result"
    }
   ],
   "source": [
    "nazwisko[-1]"
   ]
  },
  {
   "cell_type": "code",
   "execution_count": 46,
   "metadata": {},
   "outputs": [
    {
     "name": "stdout",
     "output_type": "stream",
     "text": [
      "B\n",
      "r\n",
      "z\n",
      "ę\n",
      "c\n",
      "z\n",
      "y\n",
      "s\n",
      "z\n",
      "c\n",
      "z\n",
      "y\n",
      "k\n",
      "i\n",
      "e\n",
      "w\n",
      "i\n",
      "c\n",
      "z\n"
     ]
    }
   ],
   "source": [
    "for literka in nazwisko:\n",
    "    print(literka)"
   ]
  },
  {
   "cell_type": "code",
   "execution_count": 47,
   "metadata": {},
   "outputs": [
    {
     "data": {
      "text/plain": [
       "5"
      ]
     },
     "execution_count": 47,
     "metadata": {},
     "output_type": "execute_result"
    }
   ],
   "source": [
    "licznik = 0\n",
    "for literka in nazwisko:\n",
    "    if literka == 'z':\n",
    "        licznik += 1\n",
    "        \n",
    "licznik"
   ]
  },
  {
   "cell_type": "code",
   "execution_count": 48,
   "metadata": {},
   "outputs": [],
   "source": [
    "pan_tadeusz = '''\n",
    "Litwo! Ojczyzno moja! ty jesteś jak zdrowie;\n",
    "Ile cię trzeba cenić, ten tylko się dowie\n",
    "Kto cię stracił. Dziś piękność twą w całéj ozdobie\n",
    "Widzę i opisuję, bo tęsknię po tobie.\n",
    "\n",
    "  Panno święta, co jasnéj bronisz Częstochowy\n",
    "I w Ostréj świecisz Bramie! Ty, co gród zamkowy\n",
    "Nowogródzki ochraniasz z jego wiernym ludem!\n",
    "Jak mnie dziecko do zdrowia powróciłaś cudem,\n",
    "(Gdy od płaczącéj matki, pod Twoję opiekę\n",
    "Ofiarowany, martwą podniosłem powiekę;\n",
    "I zaraz mogłem pieszo, do Twych świątyń progu\n",
    "Iść za wrócone życie podziękować Bogu;)\n",
    "Tak nas powrócisz cudem na Ojczyzny łono.\n",
    "Tymczasem przenoś moję duszę utęsknioną\n",
    "Do tych pagórków leśnych, do tych łąk zielonych,\n",
    "Szeroko nad błękitnym Niemnem rosciągnionych;\n",
    "Do tych pól malowanych zbożem rozmaitém,\n",
    "Wyzłacanych pszenicą, posrebrzanych żytem;\n",
    "Gdzie bursztynowy świerzop, gryka jak śnieg biała,\n",
    "Gdzie panieńskim rumieńcem dzięcielina pała,\n",
    "A wszystko przepasane jakby wstęgą, miedzą\n",
    "Zieloną, na niéj zrzadka ciche grusze siedzą.\n",
    "\n",
    "Śród takich pól przed laty, nad brzegiem ruczaju,\n",
    "Na pagórku niewielkim, we brzozowym gaju,\n",
    "Stał dwór szlachecki, z drzewa, lecz podmurowany;\n",
    "Świéciły się zdaleka pobielane ściany,\n",
    "Tém bielsze że odbite od ciemnéj zieleni\n",
    "Topoli, co go bronią od wiatrów jesieni.\n",
    "Dóm mieszkalny niewielki lecz zewsząd chędogi,\n",
    "I stodołę miał wielką i przy niéj trzy stogi\n",
    "Użątku, co pod strzechą zmieścić się niemoże;\n",
    "Widać że okolica obfita we zboże,\n",
    "I widać z liczby kopie, co wzdłuż i wszerz smugów\n",
    "Świecą gęsto jak gwiazdy; widać z liczby pługów\n",
    "Orzących wcześnie łany ogromne ugoru\n",
    "Czarnoziemne, zapewne należne do dworu,\n",
    "Uprawne dobrze nakształt ogrodowych grządek:\n",
    "Że w tym domu dostatek mieszka i porządek.\n",
    "Brama na wciąż otwarta przechodniom ogłasza,\n",
    "Że gościnna, i wszystkich w gościnę zaprasza.\n",
    "\n",
    "Właśnie dwókonną bryką wjechał młody panek\n",
    "I obiegłszy dziedziniec zawrócił przed ganek,\n",
    "Wysiadł s powozu; konie porzucone same,\n",
    "Szczypać trawę ciągnęły powoli pod bramę.\n",
    "We dworze pusto: bo drzwi od ganku zamknięto\n",
    "Zaszczepkami, i kołkiem zaszczepki przetknięto.\n",
    "Podróżny do folwarku nie biegł sług zapytać,\n",
    "Odemknął, wbiegł do domu, pragnął go powitać,\n",
    "Dawno domu niewidział; bo w dalekiém mieście\n",
    "Kończył nauki, końca doczekał nareszcie.\n",
    "Wbiega i okiem chciwie ściany starodawne\n",
    "Ogląda czule, jako swe znajome dawne.\n",
    "Też same widzi sprzęty, też same obicia,\n",
    "S któremi się zabawiać lubił od powicia;\n",
    "Lecz mniéj wielkie, mniéj piękne niż się dawniéj zdały.\n",
    "I też same portrety na ścianach wisiały.\n",
    "Tu Kościuszko w czamarce krakowskiéj, z oczyma\n",
    "Podniesionemi w niebo, miecz oburącz trzyma;\n",
    "Takim był gdy przysięgał na stopniach ołtarzów,\n",
    "Że tym mieczem wypędzi s Polski trzech mocarzów,\n",
    "Albo sam na nim padnie. Daléj w polskiéj szacie\n",
    "Siedzi Rejtan żałośny po wolności stracie,\n",
    "W ręku trzyma nóż ostrzem zwrócony do łona,\n",
    "A przed nim leży Fedon i żywot Katona.\n",
    "Daléj Jasiński młodzian piękny i posępny;\n",
    "Obok Korsak towarzysz jego nieodstępny\n",
    "Stoją na szańcach Pragi, na stosach moskali\n",
    "Siekąc wrogów a Praga już się w koło pali.\n",
    "  Nawet stary stojący zegar kurantowy\n",
    "W drewnianéj szafie poznał, u wniścia alkowy;\n",
    "I z dziecinną radością pociągnął za sznurek,\n",
    "By stary Dąbrowskiego usłyszyć mazurek.\n",
    "\n",
    "Biegał po całym domu i szukał komnaty\n",
    "Gdzie mieszkał dzieckiem będąc, przed dziesięciu laty.\n",
    "Wchodzi, cofnął się, toczył zdumione źrenice\n",
    "Po ścianach; w téj komnacie mieszkanie kobiéce?\n",
    "Któżby tu mieszkał? stary stryj niebył żonaty;\n",
    "A ciotka w Petersburgu mieszkała przed laty.\n",
    "To niebył ochmistrzyni pokój? Fortepiano?\n",
    "Na niém noty, i książki; wszystko porzucano\n",
    "Niedbale i bezładnie; nieporządek miły!\n",
    "Niestare były rączki co je tak rzuciły.\n",
    "Tuż i sukienka biała, świeżo s kołka zdjęta\n",
    "Do ubrania, na krzesła poręczu rospięta.\n",
    "A na oknach donices pachnącemi ziołki,\n",
    "Gieranium, lewkonia, astry i fijołki.\n",
    "Podróżny stanął w jedném z okien -- nowe dziwo:\n",
    "W sadzie, na brzegu niegdyś zarosłym pokrzywą\n",
    "Był maleńki ogródek ścieszkami porznięty.\n",
    "Pełen bukietów trany angielskiéj i mięty.\n",
    "Drewniany drobny w cyfrę powiązany płotek\n",
    "Połyskał się wstążkami jaskrawych stokrotek.\n",
    "Grządki widać że były świeżo polewane;\n",
    "Tuż stało wody pełne naczynie blaszane,\n",
    "Ale nigdzie niewidać było ogrodniczki;\n",
    "Tylko co wyszła; jeszcze kołyszą się drzwiczki\n",
    "Świeżo trącone, blisko drzwi ślad widać nóżki\n",
    "Na piasku, bez trzewika była i pończoszki,\n",
    "Na piasku drobnym, suchym, białym nakształt śniegu;\n",
    "Ślad wyraźny lecz lekki, odgadniesz że w biegu\n",
    "Chybkim był zostawiony nóżkami drobnemi\n",
    "Od kogoś, co zaledwie dotykał się ziemi.\n",
    "'''"
   ]
  },
  {
   "cell_type": "code",
   "execution_count": 49,
   "metadata": {},
   "outputs": [
    {
     "data": {
      "text/plain": [
       "'\\nLitwo! Ojczyzno moja! ty jesteś jak zdrowie;\\nIle cię trzeba cenić, ten tylko się dowie\\nKto cię stracił. Dziś piękność twą w całéj ozdobie\\nWidzę i opisuję, bo tęsknię po tobie.\\n\\n  Panno święta, co jasnéj bronisz Częstochowy\\nI w Ostréj świecisz Bramie! Ty, co gród zamkowy\\nNowogródzki ochraniasz z jego wiernym ludem!\\nJak mnie dziecko do zdrowia powróciłaś cudem,\\n(Gdy od płaczącéj matki, pod Twoję opiekę\\nOfiarowany, martwą podniosłem powiekę;\\nI zaraz mogłem pieszo, do Twych świątyń progu\\nIść za wrócone życie podziękować Bogu;)\\nTak nas powrócisz cudem na Ojczyzny łono.\\nTymczasem przenoś moję duszę utęsknioną\\nDo tych pagórków leśnych, do tych łąk zielonych,\\nSzeroko nad błękitnym Niemnem rosciągnionych;\\nDo tych pól malowanych zbożem rozmaitém,\\nWyzłacanych pszenicą, posrebrzanych żytem;\\nGdzie bursztynowy świerzop, gryka jak śnieg biała,\\nGdzie panieńskim rumieńcem dzięcielina pała,\\nA wszystko przepasane jakby wstęgą, miedzą\\nZieloną, na niéj zrzadka ciche grusze siedzą.\\n\\nŚród takich pól przed laty, nad brzegiem ruczaju,\\nNa pagórku niewielkim, we brzozowym gaju,\\nStał dwór szlachecki, z drzewa, lecz podmurowany;\\nŚwiéciły się zdaleka pobielane ściany,\\nTém bielsze że odbite od ciemnéj zieleni\\nTopoli, co go bronią od wiatrów jesieni.\\nDóm mieszkalny niewielki lecz zewsząd chędogi,\\nI stodołę miał wielką i przy niéj trzy stogi\\nUżątku, co pod strzechą zmieścić się niemoże;\\nWidać że okolica obfita we zboże,\\nI widać z liczby kopie, co wzdłuż i wszerz smugów\\nŚwiecą gęsto jak gwiazdy; widać z liczby pługów\\nOrzących wcześnie łany ogromne ugoru\\nCzarnoziemne, zapewne należne do dworu,\\nUprawne dobrze nakształt ogrodowych grządek:\\nŻe w tym domu dostatek mieszka i porządek.\\nBrama na wciąż otwarta przechodniom ogłasza,\\nŻe gościnna, i wszystkich w gościnę zaprasza.\\n\\nWłaśnie dwókonną bryką wjechał młody panek\\nI obiegłszy dziedziniec zawrócił przed ganek,\\nWysiadł s powozu; konie porzucone same,\\nSzczypać trawę ciągnęły powoli pod bramę.\\nWe dworze pusto: bo drzwi od ganku zamknięto\\nZaszczepkami, i kołkiem zaszczepki przetknięto.\\nPodróżny do folwarku nie biegł sług zapytać,\\nOdemknął, wbiegł do domu, pragnął go powitać,\\nDawno domu niewidział; bo w dalekiém mieście\\nKończył nauki, końca doczekał nareszcie.\\nWbiega i okiem chciwie ściany starodawne\\nOgląda czule, jako swe znajome dawne.\\nTeż same widzi sprzęty, też same obicia,\\nS któremi się zabawiać lubił od powicia;\\nLecz mniéj wielkie, mniéj piękne niż się dawniéj zdały.\\nI też same portrety na ścianach wisiały.\\nTu Kościuszko w czamarce krakowskiéj, z oczyma\\nPodniesionemi w niebo, miecz oburącz trzyma;\\nTakim był gdy przysięgał na stopniach ołtarzów,\\nŻe tym mieczem wypędzi s Polski trzech mocarzów,\\nAlbo sam na nim padnie. Daléj w polskiéj szacie\\nSiedzi Rejtan żałośny po wolności stracie,\\nW ręku trzyma nóż ostrzem zwrócony do łona,\\nA przed nim leży Fedon i żywot Katona.\\nDaléj Jasiński młodzian piękny i posępny;\\nObok Korsak towarzysz jego nieodstępny\\nStoją na szańcach Pragi, na stosach moskali\\nSiekąc wrogów a Praga już się w koło pali.\\n  Nawet stary stojący zegar kurantowy\\nW drewnianéj szafie poznał, u wniścia alkowy;\\nI z dziecinną radością pociągnął za sznurek,\\nBy stary Dąbrowskiego usłyszyć mazurek.\\n\\nBiegał po całym domu i szukał komnaty\\nGdzie mieszkał dzieckiem będąc, przed dziesięciu laty.\\nWchodzi, cofnął się, toczył zdumione źrenice\\nPo ścianach; w téj komnacie mieszkanie kobiéce?\\nKtóżby tu mieszkał? stary stryj niebył żonaty;\\nA ciotka w Petersburgu mieszkała przed laty.\\nTo niebył ochmistrzyni pokój? Fortepiano?\\nNa niém noty, i książki; wszystko porzucano\\nNiedbale i bezładnie; nieporządek miły!\\nNiestare były rączki co je tak rzuciły.\\nTuż i sukienka biała, świeżo s kołka zdjęta\\nDo ubrania, na krzesła poręczu rospięta.\\nA na oknach donices pachnącemi ziołki,\\nGieranium, lewkonia, astry i fijołki.\\nPodróżny stanął w jedném z okien -- nowe dziwo:\\nW sadzie, na brzegu niegdyś zarosłym pokrzywą\\nBył maleńki ogródek ścieszkami porznięty.\\nPełen bukietów trany angielskiéj i mięty.\\nDrewniany drobny w cyfrę powiązany płotek\\nPołyskał się wstążkami jaskrawych stokrotek.\\nGrządki widać że były świeżo polewane;\\nTuż stało wody pełne naczynie blaszane,\\nAle nigdzie niewidać było ogrodniczki;\\nTylko co wyszła; jeszcze kołyszą się drzwiczki\\nŚwieżo trącone, blisko drzwi ślad widać nóżki\\nNa piasku, bez trzewika była i pończoszki,\\nNa piasku drobnym, suchym, białym nakształt śniegu;\\nŚlad wyraźny lecz lekki, odgadniesz że w biegu\\nChybkim był zostawiony nóżkami drobnemi\\nOd kogoś, co zaledwie dotykał się ziemi.\\n'"
      ]
     },
     "execution_count": 49,
     "metadata": {},
     "output_type": "execute_result"
    }
   ],
   "source": [
    "pan_tadeusz"
   ]
  },
  {
   "cell_type": "code",
   "execution_count": 52,
   "metadata": {},
   "outputs": [
    {
     "data": {
      "text/plain": [
       "282"
      ]
     },
     "execution_count": 52,
     "metadata": {},
     "output_type": "execute_result"
    }
   ],
   "source": [
    "licznik = 0\n",
    "\n",
    "for literka in pan_tadeusz:\n",
    "    if literka == 'a' or literka == 'A':\n",
    "        licznik += 1\n",
    "        \n",
    "licznik"
   ]
  },
  {
   "cell_type": "code",
   "execution_count": null,
   "metadata": {},
   "outputs": [],
   "source": []
  }
 ],
 "metadata": {
  "kernelspec": {
   "display_name": "Python 3",
   "language": "python",
   "name": "python3"
  },
  "language_info": {
   "codemirror_mode": {
    "name": "ipython",
    "version": 3
   },
   "file_extension": ".py",
   "mimetype": "text/x-python",
   "name": "python",
   "nbconvert_exporter": "python",
   "pygments_lexer": "ipython3",
   "version": "3.6.6"
  }
 },
 "nbformat": 4,
 "nbformat_minor": 2
}
