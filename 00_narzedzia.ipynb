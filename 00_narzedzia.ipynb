{
 "cells": [
  {
   "cell_type": "markdown",
   "metadata": {},
   "source": [
    "# Narzędzia pracy - JupyterLab\n",
    "\n",
    "Na naszych zajęciach będziemy używać jednego programu - JupyterLab. Jest to interaktywne środowisko programistyczne, działające wewnątrz przeglądarki internetowej, i pozwalające m.in. na tworzenie _Jupyter Notebooks_ - dokumentów zawierających kod programistyczny w języku Python... I jeśli powyższe zdanie jest dla Ciebie niezrozumiałe to nic takiego - mam nadzieję, że już niedługo wszystko będzie jasne.\n",
    "\n",
    "## Instalacja\n",
    "\n",
    "Aby w prosty sposób uzyskać stabilne i dobrze \"wyposażone\" środowisko programistyczne, najlepiej jest zainstalować Anaconda Distribution. Proces instalacji dla różnych systemów operacyjnych opisany jest szczegółowo tutaj:<http://docs.anaconda.com/anaconda/install/>.\n",
    "\n",
    "Po zainstalowaniu należy uruchomić aplikację Anaconda Navigator, i stamtąd wybrać JupyterLab.\n",
    "\n",
    "Uwaga! Do pracy z JupyterLab polecam stosować przeglądarkę Chrome, Firefox bądź Safari (MacOS). Używanie bardziej egzotycznych przeglądarek może powodować niespodziewane rezultaty.\n",
    "\n",
    "## JupyterLab - przegląd interfejsu\n",
    "\n",
    "Po zainstalowaniu i uruchomieniu JupyterLab Twoim oczom powinien ukazać się widok podobny do poniższego.\n",
    "\n",
    "![JupyterLab - okno początkowe](img/jl_window.png)\n",
    "\n",
    "W górnej części okna widzimy klasyczne menu, ze znanymi z innych programów pozycjami `File`, `Edit` czy `Help`. Z lewej widzimy boczny panel, który zawiera bardzo ważny element - **przeglądarkę plików** (file browser). Służy ona do przeglądania, otwierania, kopiowania, zmieniania nazw plików. Powyżej okna przeglądarki znajdują się przyciski, które będą przydatne. Są to w kolejności:\n",
    "\n",
    "- _New Launcher_: otwiera kartę _launcher_, służącą do tworzenia nowych kart\n",
    "- _New folder_: tworzy nowy folder\n",
    "- _Upload files_: pozwala dodawać do bierzącego folderu nowe pliki przy użyciu interfejsu przeglądarki\n",
    "- _Refresh file list_: odświeża listę plików w przeglądarce (przydatne, gdy np. nasz program tworzy nowe pliki)\n",
    "\n",
    "Poniżej tych przycisków widzimy **ścieżkę dostępu** do aktualnie wybranego folderu.\n",
    "\n",
    "Pamiętaj, że przytrzymanie kursora kilka sekund nad jakimś elementem interfejsu spowoduje wyświetlenie podpowiedzi.\n",
    "\n",
    "![JupyterLab - przyciski powyżej przeglądarki plików](img/jl_buttons.png)\n",
    "\n",
    "\n"
   ]
  },
  {
   "cell_type": "markdown",
   "metadata": {},
   "source": [
    "### Launcher i karty\n",
    "\n",
    "Launcher jest kartą, która służy do tworzenia nowych kart. Możemy za jego pomocą utworzyć nowy _notebook_ (o czym zaraz). Możemy też utworzyć nową konsolę (_Console - Python 3_), okno terminala (_Terminal_) bądź plik tekstowy (_Text file_). Kliknięcie na dowolny przycisk w launcherze powoduje utworzenie nowej karty z daną zawartością. Karty można dowolnie przesuwać i ustawiać wewnątrz interfejsu, poprzez przeciąganie ich tytułów w rożne miejsca. Poniższy przykład pokazuje jedno z możliwych ustawień interfejsu.\n",
    "\n",
    "![JupyterLab - karty interfejsu](img/jl_karty.png)\n"
   ]
  },
  {
   "cell_type": "markdown",
   "metadata": {},
   "source": [
    "### Pierwszy notebook\n",
    "\n",
    "Jupyter Notebook do dokument, który składa się z komórek (_cells_), przechowywujących różne rodzaje danych, tj:\n",
    "\n",
    "- Tekst (wykorzystując [Markdown](https://en.wikipedia.org/wiki/Markdown), o czym zaraz)\n",
    "- Kod w różnych językach programowania (m.in. w Pythonie)\n",
    "- Wyniki działania tego kodu\n",
    "- Grafiki, wzory matematyczne\n",
    "- Media (audio/video)\n",
    "\n",
    "Notebooki mają rozszerzenie `.ipynb` (skrót od _IPython Notebook_, protoplasty Jupytera) i tworzone są przy pomocy JupyterLab. Stanowią bardzo proste i poręczne narzędzie do [programowania interaktywnego](https://en.wikipedia.org/wiki/Interactive_computing). Znajdują wykorzystanie głównie w raportowaniu wyników badań naukowych (m.in. były wykorzystane przez naukowców z LIGO, odkrywców [fal grawitacyjnych](https://www.gw-openscience.org/GW150914data/GW150914_tutorial.html) . Więcej przykładowych notebooków można znaleźć [tutaj](https://nbviewer.jupyter.org) lub [tutaj](https://github.com/jupyter/jupyter/wiki/A-gallery-of-interesting-Jupyter-Notebooks). Tworzone są rozbudowane kursy a nawet książki, będące _de facto_ kolekcjami notebooków (np. [darmowy kurs Pythona](http://introtopython.org), [podręcznik Principles and Techniques of Data Science](https://www.textbook.ds100.org/intro).\n",
    "\n",
    "Utwórzmy pierwszy nasz pierwszy Jupyter Notebook. W launcherze wybierz przycisk `Python 3` (w sekcji `Notebook`):\n",
    "\n",
    "![Nowy notebook](img/launch_nb.png)\n",
    "\n",
    "W nowej karcie otworzy się pusty notebook, zatytułowany `Untitled.ipynb`. Pojawi się też nowy element w przeglądarce po lewej stronie - JupyterLab utworzył nam nowy plik. Najpierwsz zmieńmy jego nazwę. Naciśnij **prawym** przyciskiem myszy na `Untitled.ipynb` w przeglądarce - pojawi się menu kontekstowe, z którego wybierz `Rename`. W okienku wpisz nową nazwę, np. `pierwszy_nb.ipynb`. \n",
    "\n",
    "Teraz wprowadźmy zawartość. W naszym notebooku jak na razie jest jedna, pusta komórka (_cell_). Dodatkowo, jest ona typu `Code` (służy do wprowadzania kodu programistycznego). Wiemy o tym, ponieważ po jej lewej stronie znajduje się symbol `[ ]:`, zaś w pasku narzędzi powyżej napisane jest `Code`. Naciśnij na ten napis a pojawi się lista rozwijalna. Z tej listy wybierz `Markdown`. Symbol `[ ]:` zniknie a Ty możesz napisać w komórce dowolny tekst. Po wpisaniu tekstu naciśnij kombinację klawiszy SHIFT + ENTER. _Voila!_ Komórka wyświetliła prosty napis. Całość powinna wyglądać jakoś tak:\n",
    "\n",
    "![Pierwszy notebook](img/empty_nb.png)"
   ]
  },
  {
   "cell_type": "code",
   "execution_count": null,
   "metadata": {},
   "outputs": [],
   "source": []
  }
 ],
 "metadata": {
  "kernelspec": {
   "display_name": "Python 3",
   "language": "python",
   "name": "python3"
  },
  "language_info": {
   "codemirror_mode": {
    "name": "ipython",
    "version": 3
   },
   "file_extension": ".py",
   "mimetype": "text/x-python",
   "name": "python",
   "nbconvert_exporter": "python",
   "pygments_lexer": "ipython3",
   "version": "3.7.3"
  }
 },
 "nbformat": 4,
 "nbformat_minor": 4
}
