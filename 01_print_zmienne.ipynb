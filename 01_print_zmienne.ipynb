{
 "cells": [
  {
   "cell_type": "markdown",
   "metadata": {},
   "source": [
    "## Twój pierwszy program w Pythonie\n",
    "\n",
    "Zwyczaj nakazuje, żeby ucząc się jakiegoś języka programowania na początku nauczyć się wyświetlić na ekranie jakiś napis. Tradycyjnie jest to napis *\"witaj świecie\"* (*hello, world!*). Zmuśmy wiec Pythona, żeby pokazał nam ten napis."
   ]
  },
  {
   "cell_type": "code",
   "execution_count": 27,
   "metadata": {},
   "outputs": [
    {
     "name": "stdout",
     "output_type": "stream",
     "text": [
      "Witaj, świecie!\n"
     ]
    }
   ],
   "source": [
    "print(\"Witaj, świecie!\")"
   ]
  },
  {
   "cell_type": "markdown",
   "metadata": {},
   "source": [
    "Zastosowaliśmy tutaj funkcję `print()`, która wyświetla (\"drukuje\") napis na ekranie. Funkcje mają swoje argumenty, podane w nawiasie. W tym wypadku funkcja `print()` przyjmuje jeden argument - treść napisu, który ma wyświetlić. Zwróć uwagę, że napis jest w cudzysłowie, inaczej Python nie wiedziałby, że słowa *\"Witaj, świecie!\"* ma potraktować jako napis (a nie np. jako nazwę zmiennej).\n",
    "\n",
    "## Komentarze\n",
    "\n",
    "Komentarz to fragment programu, który jest nie jest wykonywany. Komentarze służą do umieszczania uwag i wyjaśnień programisty, poprawiają czytelność kodu. W Pythonie komentarze zaczynają się od `#` i trwają do końca linii. "
   ]
  },
  {
   "cell_type": "code",
   "execution_count": 28,
   "metadata": {},
   "outputs": [
    {
     "name": "stdout",
     "output_type": "stream",
     "text": [
      "To zostanie wykonane\n"
     ]
    }
   ],
   "source": [
    "# To nie zostanie wykonane\n",
    "print(\"To zostanie wykonane\") # A to też nie"
   ]
  },
  {
   "cell_type": "markdown",
   "metadata": {},
   "source": [
    "## Obliczenia\n",
    "\n",
    "Python to świetny kalkulator. Potrafi dodawać..."
   ]
  },
  {
   "cell_type": "code",
   "execution_count": 29,
   "metadata": {},
   "outputs": [
    {
     "name": "stdout",
     "output_type": "stream",
     "text": [
      "4\n"
     ]
    }
   ],
   "source": [
    "print(2 + 2) # dodawanie"
   ]
  },
  {
   "cell_type": "markdown",
   "metadata": {},
   "source": [
    "...odejmować..."
   ]
  },
  {
   "cell_type": "code",
   "execution_count": 30,
   "metadata": {},
   "outputs": [
    {
     "name": "stdout",
     "output_type": "stream",
     "text": [
      "0\n"
     ]
    }
   ],
   "source": [
    "print(2 - 2) # odejmowanie"
   ]
  },
  {
   "cell_type": "markdown",
   "metadata": {},
   "source": [
    "...mnożyć i dzielić..."
   ]
  },
  {
   "cell_type": "code",
   "execution_count": 31,
   "metadata": {},
   "outputs": [
    {
     "name": "stdout",
     "output_type": "stream",
     "text": [
      "24\n",
      "5.0\n"
     ]
    }
   ],
   "source": [
    "print(3 * 8) # mnożenie\n",
    "print(10 / 2) # dzielenie"
   ]
  },
  {
   "cell_type": "markdown",
   "metadata": {},
   "source": [
    "Potrafi też wykonywać na prawdę skomplikowane obliczenia. `**` to operator potęgowania, `%` to dzielenie *modulo*, inaczej zwane resztą z dzielenia."
   ]
  },
  {
   "cell_type": "code",
   "execution_count": 32,
   "metadata": {},
   "outputs": [
    {
     "name": "stdout",
     "output_type": "stream",
     "text": [
      "32959079056.16\n",
      "1\n",
      "2\n"
     ]
    }
   ],
   "source": [
    "# dziwolągi\n",
    "print(17.54 * (1234 ** 3))\n",
    "print(13 % 3)\n",
    "\n",
    "# o co tu chodzi?\n",
    "print(1 + (15 ** 15 > 150412 * 2))"
   ]
  },
  {
   "cell_type": "markdown",
   "metadata": {},
   "source": [
    "## Zmienne\n",
    "\n",
    "Zmienne służą do przechowywania rzeczy. Rzeczy w zmiennych umieszcza się za pomocą operatora przypisania `=`. Z tych rzeczy później można korzystać, podając *nazwę zmiennej*. Przykładowo:"
   ]
  },
  {
   "cell_type": "code",
   "execution_count": 33,
   "metadata": {},
   "outputs": [
    {
     "name": "stdout",
     "output_type": "stream",
     "text": [
      "What is your name?\n",
      "Lancelot\n",
      "And what is your quest?\n",
      "To find the Holy Grail\n"
     ]
    }
   ],
   "source": [
    "name = \"Lancelot\"\n",
    "quest = \"Holy Grail\"\n",
    "\n",
    "print(\"What is your name?\")\n",
    "\n",
    "print(name)\n",
    "\n",
    "print(\"And what is your quest?\")\n",
    "\n",
    "print(\"To find the\", quest)"
   ]
  },
  {
   "cell_type": "markdown",
   "metadata": {},
   "source": [
    "### Nazwy zmiennych\n",
    "\n",
    "Zmiennej w Pythonie możemy nadać właściwie dowolną nazwę, jednak trzeba pamiętać o kilku zasadach. Nazwa zmiennej nie może:\n",
    "\n",
    "- zaczynać się od cyfry\n",
    "- nie może zawierać spacji (używaj znaku `_`)\n",
    "- nie może zawierać symboli specjalnych `:'\",<>/\\?|()!@#$%^&*~-+`\n",
    "\n",
    "Dobrą praktyką jest nadawanie zmiennym nazw składający się z **małych liter**. Nie powinniśmy używać też słów zastrzeżonych (pełna lista w dokumentacji, Jupyter podpowie zaznaczając nazwę zmiennej innym kolorem). Używanie polskich znaków w nazwach zmiennych **jest błędem** - może spowodować bardzo dziwne efekty, problemy z reprodukowalnością na innych komputerach i jest przejawem złego stylu programistycznego.\n",
    "\n",
    "### Typy zmiennych\n",
    "\n",
    "W zmiennych można umieszczać różne rzeczy. W zależności od tego **jaka** rzecz umieszczona jest w zmiennej, zmienna posiada **typ**. Do tej pory w zmiennych umieszczaliśmy tylko napisy. Ten typ w Pythonie nazywa się **string**. Oprócz tego mamy do dyspozycji wiele innych typów. Najczęściej używane podstawowe typy to: \n",
    "\n",
    "- `str` (skrót od *string*) - napisy\n",
    "- `int` (skrót od *integer*) - liczby całkowite\n",
    "- `float` (*floating point number*) - liczby rzeczywiste\n",
    "- `bool` (*boolean*) - wartości logiczne, prawda lub fałsz\n",
    "\n",
    "Jeśli chcesz sprawdzić typ jakiejś zmiennej, zastosuj funkcję `type()`."
   ]
  },
  {
   "cell_type": "code",
   "execution_count": 34,
   "metadata": {},
   "outputs": [
    {
     "name": "stdout",
     "output_type": "stream",
     "text": [
      "<class 'int'>\n",
      "<class 'float'>\n",
      "<class 'bool'>\n",
      "<class 'str'>\n"
     ]
    }
   ],
   "source": [
    "a = 2\n",
    "b = 22.0\n",
    "c = True\n",
    "d = '33.0'\n",
    "\n",
    "print(type(a))\n",
    "print(type(b))\n",
    "print(type(c))\n",
    "print(type(d))"
   ]
  },
  {
   "cell_type": "markdown",
   "metadata": {},
   "source": [
    "### Rzutowanie typów\n",
    "\n",
    "Często będziemy na zmiennych wykonywać operacje. Wynik tych operacji będzie zależny od typu zmiennej. Zobacz ten przykład:"
   ]
  },
  {
   "cell_type": "code",
   "execution_count": 35,
   "metadata": {},
   "outputs": [
    {
     "name": "stdout",
     "output_type": "stream",
     "text": [
      "4\n",
      "4.0\n",
      "4.0\n"
     ]
    }
   ],
   "source": [
    "print(2 + 2)\n",
    "print(2.0 + 2.0)\n",
    "print(2 + 2.0)"
   ]
  },
  {
   "cell_type": "markdown",
   "metadata": {},
   "source": [
    "W pierwszej linijce mamy zwykłe dodawanie dwóch `int`ów. W drugiej dodajemy `float`y. W trzeciej z kolei mamy różne typy - dodajemy `int` do `float`a. W tej sytuacji Python sam zamieni nam typ tak, żeby po obu stronach działania był `float`.\n",
    "\n",
    "Nie zawsze jednak operacje na różnych typach się udadzą. Nie możemy np. dodawać napisów do liczb:"
   ]
  },
  {
   "cell_type": "code",
   "execution_count": 36,
   "metadata": {},
   "outputs": [
    {
     "ename": "TypeError",
     "evalue": "can only concatenate str (not \"int\") to str",
     "output_type": "error",
     "traceback": [
      "\u001b[0;31m---------------------------------------------------------------------------\u001b[0m",
      "\u001b[0;31mTypeError\u001b[0m                                 Traceback (most recent call last)",
      "\u001b[0;32m<ipython-input-36-462a95e733af>\u001b[0m in \u001b[0;36m<module>\u001b[0;34m()\u001b[0m\n\u001b[0;32m----> 1\u001b[0;31m \u001b[0mprint\u001b[0m\u001b[0;34m(\u001b[0m\u001b[0;34m\"napis\"\u001b[0m \u001b[0;34m+\u001b[0m \u001b[0;36m2\u001b[0m\u001b[0;34m)\u001b[0m\u001b[0;34m\u001b[0m\u001b[0m\n\u001b[0m",
      "\u001b[0;31mTypeError\u001b[0m: can only concatenate str (not \"int\") to str"
     ]
    }
   ],
   "source": [
    "print(\"napis\" + 2)"
   ]
  },
  {
   "cell_type": "markdown",
   "metadata": {},
   "source": [
    "W tym przypadku trzeba poradzić sobie za pomocą funkcji *rzutującej typ*, czyli wymuszającej zmianę typu na konkretny. Poniżej skorzystałem z funkcji `str()`, zmieniającej typ na string."
   ]
  },
  {
   "cell_type": "code",
   "execution_count": 54,
   "metadata": {},
   "outputs": [
    {
     "name": "stdout",
     "output_type": "stream",
     "text": [
      "12.3 to liczba zmiennoprzecinkowa\n"
     ]
    }
   ],
   "source": [
    "x = 12.3\n",
    "napis = \" to liczba zmiennoprzecinkowa\"\n",
    "print(str(x) + napis)"
   ]
  },
  {
   "cell_type": "markdown",
   "metadata": {},
   "source": [
    "W ten sam sposób można rzutować pozostałe typy. Wykorzystujemy do tego funkcje `str()`, `int()`, `float()` oraz `bool()`. Kilka przykładów:"
   ]
  },
  {
   "cell_type": "code",
   "execution_count": 1,
   "metadata": {},
   "outputs": [
    {
     "name": "stdout",
     "output_type": "stream",
     "text": [
      "0 jest mniejsze niż 1.0\n",
      "1\n",
      "0.0 to to samo co zero\n",
      "False\n",
      "True or False\n"
     ]
    }
   ],
   "source": [
    "a = 0\n",
    "b = \" jest mniejsze niż \"\n",
    "c = 1.0\n",
    "\n",
    "print(str(a) + b + str(c))\n",
    "print(a + int(c))\n",
    "print(str(float(a)) + \" to to samo co zero\")\n",
    "print(bool(a))\n",
    "print(str(bool(c)) + \" or \" + str(bool(a)))"
   ]
  },
  {
   "cell_type": "markdown",
   "metadata": {},
   "source": [
    "## Funkcja `print()` i programowanie interaktywne\n",
    "\n",
    "Uwaga! Od tego momentu nie będziemy już \"drukować\" rzeczy na ekranie przy pomocy funkcji `print()`. Okazuje się, że Jupyter Lab (a tak na prawdę IPython) wypisuje zawartość zmiennej na ekranie, jeśli tylko podamy jej nazwę. Czyli zamiast pisać: "
   ]
  },
  {
   "cell_type": "code",
   "execution_count": 56,
   "metadata": {},
   "outputs": [
    {
     "name": "stdout",
     "output_type": "stream",
     "text": [
      "mielonka\n"
     ]
    }
   ],
   "source": [
    "jedzenie = \"mielonka\"\n",
    "print(jedzenie)"
   ]
  },
  {
   "cell_type": "markdown",
   "metadata": {},
   "source": [
    "Możemy napisać po prostu:"
   ]
  },
  {
   "cell_type": "code",
   "execution_count": 57,
   "metadata": {},
   "outputs": [
    {
     "data": {
      "text/plain": [
       "'mielonka'"
      ]
     },
     "execution_count": 57,
     "metadata": {},
     "output_type": "execute_result"
    }
   ],
   "source": [
    "jedzenie"
   ]
  },
  {
   "cell_type": "markdown",
   "metadata": {},
   "source": [
    "Pamiętaj, że jest to specyficzne zachowanie dla IPython Shella i Jupyter Notebooków. Jeśli będziesz pisać zwykły skrypt w Pythonie i uruchamiać go interpreterem, koniecznie musisz stosować funkcję `print()`. Pamiętaj też, że IPython/Jupyter pokazuje wartość ostatniego obiektu przywołanego w obrębie jednej komórki. Czyli np. takie coś:"
   ]
  },
  {
   "cell_type": "code",
   "execution_count": 58,
   "metadata": {},
   "outputs": [
    {
     "data": {
      "text/plain": [
       "'kota'"
      ]
     },
     "execution_count": 58,
     "metadata": {},
     "output_type": "execute_result"
    }
   ],
   "source": [
    "\"Ala\"\n",
    "\"ma\"\n",
    "\"kota\""
   ]
  },
  {
   "cell_type": "markdown",
   "metadata": {},
   "source": [
    "Jak widać spowoduje tylko wyświetlenie słowa `'kota'` (ostatni obiekt w obrębie komórki). Żeby wyświetlić wszystkie obiekty, każdy powinien być w osobnej komórce."
   ]
  },
  {
   "cell_type": "code",
   "execution_count": 59,
   "metadata": {},
   "outputs": [
    {
     "data": {
      "text/plain": [
       "'Ala'"
      ]
     },
     "execution_count": 59,
     "metadata": {},
     "output_type": "execute_result"
    }
   ],
   "source": [
    "\"Ala\""
   ]
  },
  {
   "cell_type": "code",
   "execution_count": 61,
   "metadata": {},
   "outputs": [
    {
     "data": {
      "text/plain": [
       "'ma'"
      ]
     },
     "execution_count": 61,
     "metadata": {},
     "output_type": "execute_result"
    }
   ],
   "source": [
    "\"ma\""
   ]
  },
  {
   "cell_type": "code",
   "execution_count": 62,
   "metadata": {},
   "outputs": [
    {
     "data": {
      "text/plain": [
       "'kota'"
      ]
     },
     "execution_count": 62,
     "metadata": {},
     "output_type": "execute_result"
    }
   ],
   "source": [
    "\"kota\""
   ]
  }
 ],
 "metadata": {
  "kernelspec": {
   "display_name": "Python 3",
   "language": "python",
   "name": "python3"
  },
  "language_info": {
   "codemirror_mode": {
    "name": "ipython",
    "version": 3
   },
   "file_extension": ".py",
   "mimetype": "text/x-python",
   "name": "python",
   "nbconvert_exporter": "python",
   "pygments_lexer": "ipython3",
   "version": "3.7.3"
  }
 },
 "nbformat": 4,
 "nbformat_minor": 4
}
