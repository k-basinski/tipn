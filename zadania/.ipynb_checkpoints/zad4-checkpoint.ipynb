{
 "cells": [
  {
   "cell_type": "markdown",
   "metadata": {},
   "source": [
    "## Wybrane własności dowolnej zmiennej\n",
    "\n",
    "Ten notebook będzie podawał wybrane własności dowolnej (wybranej przez użytkownika) liczby."
   ]
  },
  {
   "cell_type": "code",
   "execution_count": 3,
   "metadata": {},
   "outputs": [],
   "source": [
    "#zmienna x jest dowolna i można ją edytować \n",
    "x = 21"
   ]
  },
  {
   "cell_type": "code",
   "execution_count": 4,
   "metadata": {},
   "outputs": [
    {
     "name": "stdout",
     "output_type": "stream",
     "text": [
      "21 jest większe od 10\n",
      "21 jest dodatnie\n",
      "21 jest podzielne przez 3\n",
      "21 jest podzielne przez 3 i 7\n",
      "<class 'int'>\n"
     ]
    }
   ],
   "source": [
    "if x > 10:\n",
    "    print(x,'jest większe od 10')\n",
    "elif x < 10:\n",
    "    print(x, 'jest mniejsze od 10')\n",
    "\n",
    "if x > 0:\n",
    "        print(x, 'jest dodatnie')\n",
    "elif x < 0:\n",
    "        print(x, 'jest ujemny')\n",
    "elif x == 0: \n",
    "    print(x, 'jest równe zero')\n",
    "        \n",
    "if x % 3 == 0:\n",
    "    print(x, 'jest podzielne przez 3')\n",
    "elif x % 3 != 0:\n",
    "    \n",
    "    print(x, 'nie jest podzielne przez 3')\n",
    "    \n",
    "if x % 3 == 0 and x % 7 == 0:\n",
    "    print(x, 'jest podzielne przez 3 i 7')\n",
    "elif x % 3 != 0 or x % 7 != 0:\n",
    "    print(x, 'nie dzieli się przez 3 i 7')\n",
    "            \n",
    "\n",
    "\n",
    "        \n",
    "if x % 2 == 0 and x <= 100 and x % 5 != 0:\n",
    "        print(x, 'jest parzysta, mniejsza lub równa 100 i nie dzieli się przez 5')\n",
    "    \n",
    "\n",
    "print(type(x)) "
   ]
  }
 ],
 "metadata": {
  "kernelspec": {
   "display_name": "Python 3",
   "language": "python",
   "name": "python3"
  },
  "language_info": {
   "codemirror_mode": {
    "name": "ipython",
    "version": 3
   },
   "file_extension": ".py",
   "mimetype": "text/x-python",
   "name": "python",
   "nbconvert_exporter": "python",
   "pygments_lexer": "ipython3",
   "version": "3.7.4"
  }
 },
 "nbformat": 4,
 "nbformat_minor": 4
}
