{
 "cells": [
  {
   "cell_type": "markdown",
   "metadata": {},
   "source": [
    "# Funkcje\n",
    "\n",
    "Znasz już sporo funkcji w języku Python. Potrafisz wyświetlać tekst (`print()`), pobrać tekst od użytkownika i umieścić w zmiennej (`input()`), sprawdzać typ zmiennej (`type()`), zmienić zmienną w inta (`int()`), floata (`float()`) czy stringa (`str()`). Potrafisz też stosować _metody_ - specjalne funkcje skojarzone z obiektami, np. z listami. Za pomocą metod można np. dodawać elementy do listy (`append()`), usuwać elementy z listy (`remove()` albo `pop()`) Wszystkie poznane przez ciebie do tej pory funkcje wyglądają i działają podobnie - najpierw podajesz nazwę funkcji a później, w nawiasach, _argumenty_. O funkcjach warto myśleć jako o _czarnych skrzynkach_. Dajemy im jakieś dane w postaci argumentów i oczekujemy, że zwrócą nam jakiś wynik. Niebardzo interesuje nas sposób, w jaki to robią - zależy nam na wyniku ich działania.\n",
    "\n",
    "Nic nie stoi na przeszkodzie, żeby w Pythonie tworzyć własne funkcje. Jest to jedną z najważniejszych i najbardziej przydatnych umiejętności jakich się nauczymy na tym kursie. Przydatne jest to co najmniej z trzech powodów:\n",
    "\n",
    "1. Żeby prosto i czytelnie realizować powtarzające się zadania\n",
    "2. Żeby zwiększyć jasność i czytelność kodu\n",
    "3. Żeby móc fragmenty napisanego kodu wykorzystać ponownie w innym programie\n",
    "\n",
    "\n",
    "## Prosty przykład\n",
    "Jak stworzyć własną funkcję w Pythonie? Popatrz na poniższy przykład. Powiedzmy, że chcemy napisać funkcję, która oblicza pierwiastek trzeciego stopnia z danej liczby. Funkcja bierze jeden argument, zmienną `a`, oblicza pierwiastek trzeciego stopnia i drukuje na ekranie wynik. Jej definicja wygląda jakoś tak:"
   ]
  },
  {
   "cell_type": "code",
   "execution_count": 15,
   "metadata": {},
   "outputs": [],
   "source": [
    "def pierw_3(a):\n",
    "    wynik = a ** (1 / 3)\n",
    "    print('Pierwiastek trzeciego stopnia z', a, 'to', wynik)"
   ]
  },
  {
   "cell_type": "markdown",
   "metadata": {},
   "source": [
    "W ten sposób _zdefiniowaliśmy_ funkcję o nazwie `pierw_3`. Nazwy funkcji muszą przestrzegać tych samych reguł co nazwy zmiennych. Możemy teraz z niej skorzystać:"
   ]
  },
  {
   "cell_type": "code",
   "execution_count": 16,
   "metadata": {},
   "outputs": [
    {
     "name": "stdout",
     "output_type": "stream",
     "text": [
      "Pierwiastek trzeciego stopnia z 8 to 2.0\n",
      "Pierwiastek trzeciego stopnia z 27 to 3.0\n",
      "Pierwiastek trzeciego stopnia z 1000 to 9.999999999999998\n",
      "Pierwiastek trzeciego stopnia z 123445 to 49.79180093293937\n"
     ]
    }
   ],
   "source": [
    "pierw_3(8)\n",
    "pierw_3(27)\n",
    "pierw_3(1000)\n",
    "pierw_3(123445)"
   ]
  },
  {
   "cell_type": "markdown",
   "metadata": {},
   "source": [
    "Widzimy, że każde kolejne wywołanie funkcji `pierw_3()` spowodowało wykonanie całego kodu znajdującego się w definicji funkcji, dla odpowiedniej wartości argumentu a.\n",
    "\n",
    "## Zwracanie wartości\n",
    "\n",
    "Powiedzmy, że chcielibyśmy na wyniku naszego pierwiastkowania wykonać kolejne operacje matematyczne. Samo wydrukowanie wartości na ekranie jest rozwiązaniem mało elastycznym - jest duża szansa, że pisząc inny program w przyszłości nie będziemy w stanie skorzystać z napisanej przez nas funkcji. Musimy nieco zmodyfikować naszą funkcję tak, aby _zwracała_ ona wartość. Wartość tą możemy później wykorzystać poprzez przypisanie jej do zmiennej (operatorem `=`) albo umieszczenie w innej funkcji. Robimy to przy pomocy słowa kluczowego `return`."
   ]
  },
  {
   "cell_type": "code",
   "execution_count": 17,
   "metadata": {},
   "outputs": [
    {
     "name": "stdout",
     "output_type": "stream",
     "text": [
      "Pierwiastek 3-go stopnia z 8 to 2.0 a z 27 to  3.0\n"
     ]
    }
   ],
   "source": [
    "def pierw_3(a):\n",
    "    wynik = a ** (1 / 3)\n",
    "    return wynik\n",
    "\n",
    "x = pierw_3(8)\n",
    "y = pierw_3(27)\n",
    "\n",
    "print('Pierwiastek 3-go stopnia z 8 to', x, 'a z 27 to', y)"
   ]
  },
  {
   "cell_type": "markdown",
   "metadata": {},
   "source": [
    "## Wiele argumentów\n",
    "\n",
    "Co jeśli chcielibyśmy, aby nasza funkcja liczyła pierwiastek dowolnego stopnia a nie tylko trzeciego? Musimy przekazać jej kolejny argument - nazwijmy go `stopien`."
   ]
  },
  {
   "cell_type": "code",
   "execution_count": 18,
   "metadata": {},
   "outputs": [],
   "source": [
    "def pierwiastek(a, stopien):\n",
    "    wynik = a ** (1 / stopien)\n",
    "    return wynik"
   ]
  },
  {
   "cell_type": "markdown",
   "metadata": {},
   "source": [
    "Teraz wywołanie naszej funkcji musi zawierać w sobie również drugi argument. Najprościej dodać go po przecinku:"
   ]
  },
  {
   "cell_type": "code",
   "execution_count": 22,
   "metadata": {},
   "outputs": [
    {
     "name": "stdout",
     "output_type": "stream",
     "text": [
      "Pierwiastek kwadratowy z 4 to 2.0\n",
      "Pierwiaswtek trzeciego stopnia z 8 to 2.0\n",
      "Pierwiastek 4 stopnia z 16 to 2.0\n"
     ]
    }
   ],
   "source": [
    "print('Pierwiastek kwadratowy z 4 to', pierwiastek(4, 2))\n",
    "print('Pierwiastek trzeciego stopnia z 8 to', pierwiastek(8, 3))\n",
    "print('Pierwiastek 4 stopnia z 16 to', pierwiastek(16, 4))"
   ]
  },
  {
   "cell_type": "markdown",
   "metadata": {},
   "source": [
    "## Odwołania przez pozycję i przez nazwę\n",
    "\n",
    "W funkcji powyżej odwołowywaliśmy się do argumentów _przez pozycję_. Python przyporządkował pierwszy argument na liście do zmiennej `a`, dlatego że w definicji ta zmienna była podana jako pierwsza. Analogicznie, drugi argument na liście został przyporządkowany do zmiennej `stopnien`, ponieważ była druga na liście. Do argumentów w funkcjach możemy odwoływać się również przez ich nazwę. Robi się to tak:"
   ]
  },
  {
   "cell_type": "code",
   "execution_count": 23,
   "metadata": {},
   "outputs": [
    {
     "name": "stdout",
     "output_type": "stream",
     "text": [
      "Pierwiastek 5 stopnia z 100000 to 10.000000000000002\n"
     ]
    }
   ],
   "source": [
    "print('Pierwiastek 5 stopnia z 100000 to', pierwiastek(stopien = 5, a = 100000))"
   ]
  },
  {
   "cell_type": "markdown",
   "metadata": {},
   "source": [
    "Podając wprost nazwy argumentów, możemy je umieścić w dowolnej kolejności. Jest to bardzo praktyczne, jeżeli funkcje mają bardzo dużo argumentów.\n",
    "\n",
    "## Wartości domyślne\n",
    "\n",
    "Co, jeśli chcemy, aby niektóre argumenty przyjmowały wartości _domyślne_, tzn. jeżeli nie są podane na liście argumentów w wywołaniu funkcji, to przyjmują z góry określoną wartość? Np. chcielibyśmy, aby nasza funkcja pierwiastkująca po otrzymaniu tylko jednego argumentu domyślnie obliczała pierwiastek kwadratowy. Musimy zmodyfikować definicję funkcji w ten sposób:"
   ]
  },
  {
   "cell_type": "code",
   "execution_count": 27,
   "metadata": {},
   "outputs": [],
   "source": [
    "def pierwiastek(a, stopien = 2):\n",
    "    wynik = a ** (1 / stopien)\n",
    "    return wynik"
   ]
  },
  {
   "cell_type": "markdown",
   "metadata": {},
   "source": [
    "Teraz możemy skorzystać z wartości domyślnej poprzez nie podawanie drugiego argumentu."
   ]
  },
  {
   "cell_type": "code",
   "execution_count": 28,
   "metadata": {},
   "outputs": [
    {
     "name": "stdout",
     "output_type": "stream",
     "text": [
      "Pierwiastek kwadratowy z 4 to 2.0\n",
      "Pierwiastek kwadratowy z 9 to 3.0\n",
      "Pierwiastek trzeciego stopnia z 8 to 2.0\n"
     ]
    }
   ],
   "source": [
    "print('Pierwiastek kwadratowy z 4 to', pierwiastek(4))\n",
    "print('Pierwiastek kwadratowy z 9 to', pierwiastek(9))\n",
    "print('Pierwiastek trzeciego stopnia z 8 to', pierwiastek(8, 3))"
   ]
  },
  {
   "cell_type": "markdown",
   "metadata": {},
   "source": [
    "W ten sposób zdefiniowanych jest wiele funkcji w Pythonie. Zerknijmy w dokumentację funkcji `print()`:"
   ]
  },
  {
   "cell_type": "code",
   "execution_count": 29,
   "metadata": {},
   "outputs": [
    {
     "data": {
      "text/plain": [
       "\u001b[0;31mDocstring:\u001b[0m\n",
       "print(value, ..., sep=' ', end='\\n', file=sys.stdout, flush=False)\n",
       "\n",
       "Prints the values to a stream, or to sys.stdout by default.\n",
       "Optional keyword arguments:\n",
       "file:  a file-like object (stream); defaults to the current sys.stdout.\n",
       "sep:   string inserted between values, default a space.\n",
       "end:   string appended after the last value, default a newline.\n",
       "flush: whether to forcibly flush the stream.\n",
       "\u001b[0;31mType:\u001b[0m      builtin_function_or_method\n"
      ]
     },
     "metadata": {},
     "output_type": "display_data"
    }
   ],
   "source": [
    "?print()"
   ]
  },
  {
   "cell_type": "markdown",
   "metadata": {},
   "source": [
    "Okazuje się, że oprócz argumentów do \"wydrukowania\" możemy w funkcji print przekazać argument `sep` (czyli separator, domyślnie spacja) oraz `end` (co dodać na końcu drukowanego stringa, domyślnie jest to znak końca linii.\n",
    "\n",
    "## Zakresy zmiennych a funkcje\n",
    "\n",
    "Pisząc własne funkcje trzeba koniecznie pamiętać o tym, że wszystkie zmienne definiowane wewnątrz funkcji pozostają _lokalne_, tj. nie są widoczne poza funkcją. Zwróć uwagę na poniższy przykład:"
   ]
  },
  {
   "cell_type": "code",
   "execution_count": 30,
   "metadata": {},
   "outputs": [
    {
     "ename": "NameError",
     "evalue": "name 'wynik' is not defined",
     "output_type": "error",
     "traceback": [
      "\u001b[0;31m---------------------------------------------------------------------------\u001b[0m",
      "\u001b[0;31mNameError\u001b[0m                                 Traceback (most recent call last)",
      "\u001b[0;32m<ipython-input-30-f1e79908c904>\u001b[0m in \u001b[0;36m<module>\u001b[0;34m()\u001b[0m\n\u001b[1;32m      4\u001b[0m \u001b[0;34m\u001b[0m\u001b[0m\n\u001b[1;32m      5\u001b[0m \u001b[0ma\u001b[0m \u001b[0;34m=\u001b[0m \u001b[0mpierwiastek\u001b[0m\u001b[0;34m(\u001b[0m\u001b[0;36m16\u001b[0m\u001b[0;34m,\u001b[0m \u001b[0;36m2\u001b[0m\u001b[0;34m)\u001b[0m\u001b[0;34m\u001b[0m\u001b[0m\n\u001b[0;32m----> 6\u001b[0;31m \u001b[0mprint\u001b[0m\u001b[0;34m(\u001b[0m\u001b[0mwynik\u001b[0m\u001b[0;34m)\u001b[0m\u001b[0;34m\u001b[0m\u001b[0m\n\u001b[0m",
      "\u001b[0;31mNameError\u001b[0m: name 'wynik' is not defined"
     ]
    }
   ],
   "source": [
    "def pierwiastek(a, stopien = 2):\n",
    "    wynik = a ** (1 / stopien)\n",
    "    return wynik\n",
    "\n",
    "a = pierwiastek(16, 2)\n",
    "print(wynik)"
   ]
  },
  {
   "cell_type": "markdown",
   "metadata": {},
   "source": [
    "Skąd ten błąd? `NameError: name 'wynik' is not defined` oznacza, że zmienna wynik nie została zdefiniowana. Python zdaje się _nie widzieć_ zmiennej znajdującej się wewnątrz funkcji. Musisz pamiętać, że jest to właściwe zachowanie - funkcje to \"czarne skrzynki\", do których dane trafiają poprzez argumenty a wynik ich działania zwracany jest poprzez słowo kluczowe `return`. "
   ]
  },
  {
   "cell_type": "code",
   "execution_count": null,
   "metadata": {},
   "outputs": [],
   "source": []
  }
 ],
 "metadata": {
  "kernelspec": {
   "display_name": "Python 3",
   "language": "python",
   "name": "python3"
  },
  "language_info": {
   "codemirror_mode": {
    "name": "ipython",
    "version": 3
   },
   "file_extension": ".py",
   "mimetype": "text/x-python",
   "name": "python",
   "nbconvert_exporter": "python",
   "pygments_lexer": "ipython3",
   "version": "3.7.3"
  }
 },
 "nbformat": 4,
 "nbformat_minor": 4
}
