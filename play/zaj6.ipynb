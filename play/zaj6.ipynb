{
 "cells": [
  {
   "cell_type": "code",
   "execution_count": 48,
   "metadata": {},
   "outputs": [
    {
     "name": "stdout",
     "output_type": "stream",
     "text": [
      "costam\n"
     ]
    }
   ],
   "source": [
    "x = 4\n",
    "if x > 3:\n",
    "    print('costam')\n",
    "else:\n",
    "    print('cos innego')"
   ]
  },
  {
   "cell_type": "code",
   "execution_count": 51,
   "metadata": {},
   "outputs": [
    {
     "name": "stdout",
     "output_type": "stream",
     "text": [
      "i kwadrat to 9\n",
      "i kwadrat to 1\n",
      "i kwadrat to 9\n",
      "i kwadrat to 4\n",
      "i kwadrat to 9\n",
      "i kwadrat to 1\n",
      "i kwadrat to 9\n"
     ]
    }
   ],
   "source": [
    "x = [3, 1, 3, 2, 3, 1, 3]\n",
    "\n",
    "for i in x:\n",
    "    print('i kwadrat to', i ** 2)"
   ]
  },
  {
   "cell_type": "code",
   "execution_count": 54,
   "metadata": {},
   "outputs": [],
   "source": [
    "f = open('meble.txt', 'r')"
   ]
  },
  {
   "cell_type": "code",
   "execution_count": 55,
   "metadata": {},
   "outputs": [
    {
     "data": {
      "text/plain": [
       "_io.TextIOWrapper"
      ]
     },
     "execution_count": 55,
     "metadata": {},
     "output_type": "execute_result"
    }
   ],
   "source": [
    "type(f)"
   ]
  },
  {
   "cell_type": "code",
   "execution_count": 56,
   "metadata": {},
   "outputs": [
    {
     "data": {
      "text/plain": [
       "'stół\\nkrzesło\\nkanapa\\nfotel\\nfotel\\nfotel\\nszafa\\nszafa'"
      ]
     },
     "execution_count": 56,
     "metadata": {},
     "output_type": "execute_result"
    }
   ],
   "source": [
    "f.read()"
   ]
  },
  {
   "cell_type": "code",
   "execution_count": 57,
   "metadata": {},
   "outputs": [],
   "source": [
    "f = open('meble.txt', 'r')\n",
    "meble = f.read().splitlines()"
   ]
  },
  {
   "cell_type": "code",
   "execution_count": 58,
   "metadata": {},
   "outputs": [
    {
     "data": {
      "text/plain": [
       "['stół', 'krzesło', 'kanapa', 'fotel', 'fotel', 'fotel', 'szafa', 'szafa']"
      ]
     },
     "execution_count": 58,
     "metadata": {},
     "output_type": "execute_result"
    }
   ],
   "source": [
    "meble"
   ]
  },
  {
   "cell_type": "code",
   "execution_count": 59,
   "metadata": {},
   "outputs": [
    {
     "data": {
      "text/plain": [
       "8"
      ]
     },
     "execution_count": 59,
     "metadata": {},
     "output_type": "execute_result"
    }
   ],
   "source": [
    "len(meble)"
   ]
  },
  {
   "cell_type": "code",
   "execution_count": 60,
   "metadata": {},
   "outputs": [
    {
     "data": {
      "text/plain": [
       "'fotel'"
      ]
     },
     "execution_count": 60,
     "metadata": {},
     "output_type": "execute_result"
    }
   ],
   "source": [
    "meble[3]"
   ]
  },
  {
   "cell_type": "code",
   "execution_count": 61,
   "metadata": {},
   "outputs": [
    {
     "data": {
      "text/plain": [
       "['stół', 'krzesło', 'kanapa']"
      ]
     },
     "execution_count": 61,
     "metadata": {},
     "output_type": "execute_result"
    }
   ],
   "source": [
    "meble[:3]"
   ]
  },
  {
   "cell_type": "code",
   "execution_count": 62,
   "metadata": {},
   "outputs": [
    {
     "data": {
      "text/plain": [
       "['fotel', 'szafa', 'szafa']"
      ]
     },
     "execution_count": 62,
     "metadata": {},
     "output_type": "execute_result"
    }
   ],
   "source": [
    "meble[-3:]"
   ]
  },
  {
   "cell_type": "code",
   "execution_count": 63,
   "metadata": {},
   "outputs": [
    {
     "data": {
      "text/plain": [
       "['fotel', 'fotel', 'fotel', 'kanapa', 'krzesło', 'stół', 'szafa', 'szafa']"
      ]
     },
     "execution_count": 63,
     "metadata": {},
     "output_type": "execute_result"
    }
   ],
   "source": [
    "meble.sort()\n",
    "meble"
   ]
  },
  {
   "cell_type": "code",
   "execution_count": 68,
   "metadata": {},
   "outputs": [
    {
     "name": "stdout",
     "output_type": "stream",
     "text": [
      "liczba mebli typu framuga to 0\n"
     ]
    }
   ],
   "source": [
    "# ile foteli?\n",
    "szukam_mebla = 'framuga'\n",
    "suma = 0\n",
    "\n",
    "for mebel in meble:\n",
    "    # czy jesteś fotelem?\n",
    "    if mebel == szukam_mebla:\n",
    "        suma = suma + 1\n",
    "\n",
    "\n",
    "print('liczba mebli typu', szukam_mebla, 'to', suma)"
   ]
  },
  {
   "cell_type": "code",
   "execution_count": 69,
   "metadata": {},
   "outputs": [
    {
     "data": {
      "text/plain": [
       "9"
      ]
     },
     "execution_count": 69,
     "metadata": {},
     "output_type": "execute_result"
    }
   ],
   "source": [
    "int('5') + 4"
   ]
  },
  {
   "cell_type": "code",
   "execution_count": 71,
   "metadata": {},
   "outputs": [],
   "source": [
    "f = open('srednia.txt', 'r')\n",
    "oceny = f.read().splitlines()"
   ]
  },
  {
   "cell_type": "code",
   "execution_count": 76,
   "metadata": {},
   "outputs": [
    {
     "data": {
      "text/plain": [
       "[4, 5, 2, 5, 4, 6, 6, 6, 5]"
      ]
     },
     "execution_count": 76,
     "metadata": {},
     "output_type": "execute_result"
    }
   ],
   "source": [
    "oceny_int = []\n",
    "\n",
    "for ocena in oceny:\n",
    "    oceny_int.append(int(ocena))\n",
    "    \n",
    "oceny_int"
   ]
  },
  {
   "cell_type": "code",
   "execution_count": 78,
   "metadata": {},
   "outputs": [
    {
     "data": {
      "text/plain": [
       "[4, 5, 2, 5, 4, 6, 6, 6, 5]"
      ]
     },
     "execution_count": 78,
     "metadata": {},
     "output_type": "execute_result"
    }
   ],
   "source": [
    "# list comprehensions\n",
    "oceny_int = [int(ocena) for ocena in oceny]\n",
    "oceny_int"
   ]
  },
  {
   "cell_type": "code",
   "execution_count": null,
   "metadata": {},
   "outputs": [],
   "source": []
  },
  {
   "cell_type": "code",
   "execution_count": 72,
   "metadata": {},
   "outputs": [
    {
     "data": {
      "text/plain": [
       "['4', '5', '2', '5', '4', '6', '6', '6', '5']"
      ]
     },
     "execution_count": 72,
     "metadata": {},
     "output_type": "execute_result"
    }
   ],
   "source": [
    "oceny"
   ]
  },
  {
   "cell_type": "code",
   "execution_count": 79,
   "metadata": {},
   "outputs": [],
   "source": [
    "f = open('srednia.txt', 'r')\n",
    "oceny = f.read().splitlines()"
   ]
  },
  {
   "cell_type": "code",
   "execution_count": 80,
   "metadata": {},
   "outputs": [
    {
     "name": "stdout",
     "output_type": "stream",
     "text": [
      "srednia ocen to 1136464.6666666667\n"
     ]
    }
   ],
   "source": [
    "ile_ocen = len(oceny)\n",
    "\n",
    "suma = 0\n",
    "\n",
    "for ocena in oceny:\n",
    "    suma = suma + int(ocena)\n",
    "    \n",
    "print('srednia ocen to', suma / ile_ocen)"
   ]
  },
  {
   "cell_type": "code",
   "execution_count": null,
   "metadata": {},
   "outputs": [],
   "source": []
  },
  {
   "cell_type": "code",
   "execution_count": 99,
   "metadata": {},
   "outputs": [],
   "source": [
    "f = open('words.txt', 'r')\n",
    "slowa = f.read().splitlines()"
   ]
  },
  {
   "cell_type": "code",
   "execution_count": 84,
   "metadata": {},
   "outputs": [
    {
     "data": {
      "text/plain": [
       "466544"
      ]
     },
     "execution_count": 84,
     "metadata": {},
     "output_type": "execute_result"
    }
   ],
   "source": [
    "len(slowa)"
   ]
  },
  {
   "cell_type": "code",
   "execution_count": 86,
   "metadata": {},
   "outputs": [
    {
     "name": "stdout",
     "output_type": "stream",
     "text": [
      "słow na b w angielskim jest 24332\n"
     ]
    }
   ],
   "source": [
    "suma = 0\n",
    "\n",
    "for slowo in slowa:\n",
    "    if slowo[0] == 'b' or slowo[0] == 'B':\n",
    "        suma = suma + 1\n",
    "        \n",
    "print('słow na b w angielskim jest', suma)"
   ]
  },
  {
   "cell_type": "code",
   "execution_count": 96,
   "metadata": {},
   "outputs": [],
   "source": [
    "litera = 'a'"
   ]
  },
  {
   "cell_type": "code",
   "execution_count": 97,
   "metadata": {},
   "outputs": [
    {
     "name": "stdout",
     "output_type": "stream",
     "text": [
      "słow na literę a w angielskim jest 30850\n"
     ]
    }
   ],
   "source": [
    "# zlicza wszystkie slowa zaczynajace sie od litery\n",
    "\n",
    "suma = 0\n",
    "\n",
    "for slowo in slowa:\n",
    "    if slowo[0] == litera.lower() or slowo[0] == litera.upper():\n",
    "        suma = suma + 1\n",
    "        \n",
    "print('słow na literę', litera, 'w angielskim jest', suma)"
   ]
  },
  {
   "cell_type": "code",
   "execution_count": 101,
   "metadata": {},
   "outputs": [],
   "source": [
    "# srednia dl słowa po ang.\n",
    "\n",
    "suma = 0\n",
    "\n",
    "for slowo in slowa:\n",
    "    suma = suma + len(slowo)\n",
    "    \n",
    "csrednia_en = suma / len(slowa)"
   ]
  },
  {
   "cell_type": "code",
   "execution_count": 102,
   "metadata": {},
   "outputs": [
    {
     "data": {
      "text/plain": [
       "9.423381288795913"
      ]
     },
     "execution_count": 102,
     "metadata": {},
     "output_type": "execute_result"
    }
   ],
   "source": [
    "srednia_en"
   ]
  },
  {
   "cell_type": "code",
   "execution_count": 103,
   "metadata": {},
   "outputs": [],
   "source": [
    "f = open('slowa.txt', 'r')\n",
    "slowa_pl = f.read().splitlines()"
   ]
  },
  {
   "cell_type": "code",
   "execution_count": 105,
   "metadata": {},
   "outputs": [],
   "source": [
    "# srednia dl słowa po pl.\n",
    "\n",
    "suma = 0\n",
    "\n",
    "for slowo in slowa_pl:\n",
    "    suma = suma + len(slowo)\n",
    "    \n",
    "srednia_pl = suma / len(slowa_pl)"
   ]
  },
  {
   "cell_type": "code",
   "execution_count": 106,
   "metadata": {},
   "outputs": [
    {
     "data": {
      "text/plain": [
       "9.5824935097714"
      ]
     },
     "execution_count": 106,
     "metadata": {},
     "output_type": "execute_result"
    }
   ],
   "source": [
    "srednia_pl"
   ]
  },
  {
   "cell_type": "code",
   "execution_count": 107,
   "metadata": {},
   "outputs": [],
   "source": [
    "f = open('../data/imiona.txt', 'r')\n",
    "imiona = f.read().splitlines()"
   ]
  },
  {
   "cell_type": "code",
   "execution_count": 110,
   "metadata": {},
   "outputs": [
    {
     "name": "stdout",
     "output_type": "stream",
     "text": [
      "i to  1\n",
      "i to  16\n",
      "i to  9\n",
      "i to  4\n",
      "i to  16\n",
      "i to  9\n"
     ]
    }
   ],
   "source": [
    "\n",
    "    \n",
    "x = [1, 4, 3, 2, 4, 3]\n",
    "\n",
    "for i in x:\n",
    "    print('i to ', i** 2)"
   ]
  },
  {
   "cell_type": "code",
   "execution_count": 111,
   "metadata": {},
   "outputs": [
    {
     "name": "stdout",
     "output_type": "stream",
     "text": [
      "meble.txt        small_words.txt  words.txt        \u001b[1m\u001b[36mzaj4\u001b[m\u001b[m/\n",
      "slowa.txt        srednia.txt      \u001b[1m\u001b[36mzaj3\u001b[m\u001b[m/            zaj6.ipynb\n"
     ]
    }
   ],
   "source": [
    "ls"
   ]
  },
  {
   "cell_type": "code",
   "execution_count": 10,
   "metadata": {},
   "outputs": [],
   "source": [
    "f = open('meble.txt', 'r')\n",
    "meble = f.read().splitlines()"
   ]
  },
  {
   "cell_type": "code",
   "execution_count": 11,
   "metadata": {},
   "outputs": [
    {
     "data": {
      "text/plain": [
       "['komoda',\n",
       " 'szafa',\n",
       " 'kanapa',\n",
       " 'kanapa',\n",
       " 'kanapa',\n",
       " 'kanapa',\n",
       " 'stolik',\n",
       " 'krzesło',\n",
       " 'fotel',\n",
       " 'szafa',\n",
       " 'łóżko',\n",
       " 'stół bilardowy',\n",
       " 'stół bilardowy',\n",
       " 'stół bilardowy',\n",
       " 'stół bilardowy',\n",
       " 'stół bilardowy',\n",
       " 'stół bilardowy',\n",
       " 'fotel',\n",
       " 'stolik',\n",
       " 'szezląg']"
      ]
     },
     "execution_count": 11,
     "metadata": {},
     "output_type": "execute_result"
    }
   ],
   "source": [
    "meble"
   ]
  },
  {
   "cell_type": "code",
   "execution_count": 3,
   "metadata": {},
   "outputs": [
    {
     "data": {
      "text/plain": [
       "'kanapa'"
      ]
     },
     "execution_count": 3,
     "metadata": {},
     "output_type": "execute_result"
    }
   ],
   "source": [
    "meble[2]"
   ]
  },
  {
   "cell_type": "code",
   "execution_count": 4,
   "metadata": {},
   "outputs": [
    {
     "data": {
      "text/plain": [
       "['komoda', 'szafa', 'kanapa']"
      ]
     },
     "execution_count": 4,
     "metadata": {},
     "output_type": "execute_result"
    }
   ],
   "source": [
    "meble[:3]"
   ]
  },
  {
   "cell_type": "code",
   "execution_count": 5,
   "metadata": {},
   "outputs": [
    {
     "data": {
      "text/plain": [
       "['fotel', 'stolik', 'szezląg']"
      ]
     },
     "execution_count": 5,
     "metadata": {},
     "output_type": "execute_result"
    }
   ],
   "source": [
    "meble[-3:]"
   ]
  },
  {
   "cell_type": "code",
   "execution_count": 6,
   "metadata": {},
   "outputs": [],
   "source": [
    "meble.sort()"
   ]
  },
  {
   "cell_type": "code",
   "execution_count": 7,
   "metadata": {},
   "outputs": [
    {
     "data": {
      "text/plain": [
       "['fotel',\n",
       " 'fotel',\n",
       " 'kanapa',\n",
       " 'kanapa',\n",
       " 'kanapa',\n",
       " 'komoda',\n",
       " 'krzesło',\n",
       " 'stolik',\n",
       " 'stolik',\n",
       " 'szafa',\n",
       " 'szezląg']"
      ]
     },
     "execution_count": 7,
     "metadata": {},
     "output_type": "execute_result"
    }
   ],
   "source": [
    "meble"
   ]
  },
  {
   "cell_type": "code",
   "execution_count": 15,
   "metadata": {},
   "outputs": [
    {
     "name": "stdout",
     "output_type": "stream",
     "text": [
      "szezląg znaleziono 1 sztuk\n"
     ]
    }
   ],
   "source": [
    "# szuklamy foteli\n",
    "\n",
    "czego_szukamy = 'szezląg'\n",
    "\n",
    "ilosc = 0\n",
    "\n",
    "for mebel in meble:\n",
    "    if mebel == czego_szukamy:\n",
    "        ilosc = ilosc + 1\n",
    "        \n",
    "print(czego_szukamy, 'znaleziono', ilosc, 'sztuk')"
   ]
  },
  {
   "cell_type": "code",
   "execution_count": 17,
   "metadata": {},
   "outputs": [
    {
     "data": {
      "text/plain": [
       "669"
      ]
     },
     "execution_count": 17,
     "metadata": {},
     "output_type": "execute_result"
    }
   ],
   "source": [
    "int('123') + 546"
   ]
  },
  {
   "cell_type": "code",
   "execution_count": 18,
   "metadata": {},
   "outputs": [
    {
     "data": {
      "text/plain": [
       "['4', '5', '2', '5', '4', '6', '6', '6', '5']"
      ]
     },
     "execution_count": 18,
     "metadata": {},
     "output_type": "execute_result"
    }
   ],
   "source": [
    "f = open('srednia.txt', 'r')\n",
    "oceny = f.read().splitlines()\n",
    "oceny"
   ]
  },
  {
   "cell_type": "code",
   "execution_count": 21,
   "metadata": {},
   "outputs": [
    {
     "name": "stdout",
     "output_type": "stream",
     "text": [
      "średnia ocen to 4.777777777777778\n"
     ]
    }
   ],
   "source": [
    "suma = 0\n",
    "\n",
    "for ocena in oceny:\n",
    "    ocena_i = int(ocena)\n",
    "    suma = suma + ocena_i\n",
    "    \n",
    "print('średnia ocen to', suma / len(oceny))"
   ]
  },
  {
   "cell_type": "code",
   "execution_count": null,
   "metadata": {},
   "outputs": [],
   "source": [
    "\n"
   ]
  },
  {
   "cell_type": "code",
   "execution_count": 22,
   "metadata": {},
   "outputs": [],
   "source": [
    "f = open('words.txt', 'r')\n",
    "slowa = f.read().splitlines()"
   ]
  },
  {
   "cell_type": "code",
   "execution_count": 23,
   "metadata": {},
   "outputs": [
    {
     "data": {
      "text/plain": [
       "466544"
      ]
     },
     "execution_count": 23,
     "metadata": {},
     "output_type": "execute_result"
    }
   ],
   "source": [
    "len(slowa)"
   ]
  },
  {
   "cell_type": "code",
   "execution_count": 25,
   "metadata": {},
   "outputs": [
    {
     "name": "stdout",
     "output_type": "stream",
     "text": [
      "słów na p jest  40956\n"
     ]
    }
   ],
   "source": [
    "suma = 0\n",
    "\n",
    "for slowo in slowa:\n",
    "    if slowo[0] == 'p' or slowo[0] == 'P':\n",
    "        suma = suma + 1\n",
    "        \n",
    "print('słów na p jest ', suma)"
   ]
  },
  {
   "cell_type": "code",
   "execution_count": 32,
   "metadata": {},
   "outputs": [
    {
     "name": "stdout",
     "output_type": "stream",
     "text": [
      "słów na p jest  40956\n"
     ]
    }
   ],
   "source": [
    "suma = 0\n",
    "\n",
    "for slowo in slowa:\n",
    "    if slowo[0].lower() == 'p':\n",
    "        suma = suma + 1\n",
    "        \n",
    "print('słów na p jest ', suma)"
   ]
  },
  {
   "cell_type": "code",
   "execution_count": 39,
   "metadata": {},
   "outputs": [],
   "source": [
    "litera = 'j'"
   ]
  },
  {
   "cell_type": "code",
   "execution_count": 40,
   "metadata": {},
   "outputs": [
    {
     "name": "stdout",
     "output_type": "stream",
     "text": [
      "słów na  j  jest  4158\n"
     ]
    }
   ],
   "source": [
    "suma = 0\n",
    "\n",
    "for slowo in slowa:\n",
    "    if slowo[0].lower() == litera:\n",
    "        suma = suma + 1\n",
    "        \n",
    "print('słów na ', litera, ' jest ', suma)"
   ]
  },
  {
   "cell_type": "code",
   "execution_count": 42,
   "metadata": {},
   "outputs": [
    {
     "name": "stdout",
     "output_type": "stream",
     "text": [
      "pneumonoultramicroscopicsilicovolcanoconiosis to najdluższe slowo w jezyku angielskim, ma 45 liter\n"
     ]
    }
   ],
   "source": [
    "naj_slowo = ''\n",
    "naj_dlugosc = 0\n",
    "\n",
    "for slowo in slowa:\n",
    "    if len(slowo) > naj_dlugosc:\n",
    "        naj_slowo = slowo\n",
    "        naj_dlugosc = len(slowo)\n",
    "        \n",
    "print(naj_slowo, 'to najdluższe slowo w jezyku angielskim, ma', naj_dlugosc, 'liter')"
   ]
  },
  {
   "cell_type": "code",
   "execution_count": 32,
   "metadata": {},
   "outputs": [
    {
     "name": "stdout",
     "output_type": "stream",
     "text": [
      "słów na p jest  40956\n"
     ]
    }
   ],
   "source": [
    "suma = 0\n",
    "\n",
    "for slowo in slowa:\n",
    "    if slowo[0].lower() == 'p':\n",
    "        suma = suma + 1\n",
    "        \n",
    "print('słów na p jest ', suma)"
   ]
  },
  {
   "cell_type": "code",
   "execution_count": null,
   "metadata": {},
   "outputs": [],
   "source": []
  }
 ],
 "metadata": {
  "kernelspec": {
   "display_name": "Python 3",
   "language": "python",
   "name": "python3"
  },
  "language_info": {
   "codemirror_mode": {
    "name": "ipython",
    "version": 3
   },
   "file_extension": ".py",
   "mimetype": "text/x-python",
   "name": "python",
   "nbconvert_exporter": "python",
   "pygments_lexer": "ipython3",
   "version": "3.7.3"
  }
 },
 "nbformat": 4,
 "nbformat_minor": 4
}
