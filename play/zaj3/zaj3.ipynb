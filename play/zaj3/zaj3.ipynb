{
 "cells": [
  {
   "cell_type": "markdown",
   "metadata": {},
   "source": [
    "## Lokaty oszczędnościowe\n",
    "\n",
    "Ten programik liczy forsę."
   ]
  },
  {
   "cell_type": "code",
   "execution_count": 7,
   "metadata": {},
   "outputs": [
    {
     "name": "stdout",
     "output_type": "stream",
     "text": [
      "Po roku będę miał 522274.68\n"
     ]
    }
   ],
   "source": [
    "mp = 512034 # mam tyle pieniędzy\n",
    "opr = 0.025 # oprocentowanie lokaty\n",
    "belka = 0.2 # podatek belki\n",
    "\n",
    "wynik = mp + (mp * opr) - (mp * opr * belka)\n",
    "print('Po roku będę miał', wynik)"
   ]
  },
  {
   "cell_type": "code",
   "execution_count": null,
   "metadata": {},
   "outputs": [],
   "source": []
  }
 ],
 "metadata": {
  "kernelspec": {
   "display_name": "Python 3",
   "language": "python",
   "name": "python3"
  },
  "language_info": {
   "codemirror_mode": {
    "name": "ipython",
    "version": 3
   },
   "file_extension": ".py",
   "mimetype": "text/x-python",
   "name": "python",
   "nbconvert_exporter": "python",
   "pygments_lexer": "ipython3",
   "version": "3.7.3"
  }
 },
 "nbformat": 4,
 "nbformat_minor": 4
}
