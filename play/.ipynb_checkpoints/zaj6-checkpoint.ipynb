{
 "cells": [
  {
   "cell_type": "code",
   "execution_count": 1,
   "metadata": {},
   "outputs": [
    {
     "name": "stdout",
     "output_type": "stream",
     "text": [
      "cośtam\n"
     ]
    }
   ],
   "source": [
    "x = 2 \n",
    "if x > 1:\n",
    "    print('cośtam')\n",
    "else:\n",
    "    print('cos innego')"
   ]
  },
  {
   "cell_type": "code",
   "execution_count": 2,
   "metadata": {},
   "outputs": [
    {
     "name": "stdout",
     "output_type": "stream",
     "text": [
      "i to 1\n",
      "i to 3\n",
      "i to 5\n",
      "i to 43\n",
      "i to 13\n"
     ]
    }
   ],
   "source": [
    "l = [1, 3, 5, 43, 13]\n",
    "\n",
    "for i in l:\n",
    "    print('i to', i)"
   ]
  },
  {
   "cell_type": "code",
   "execution_count": 5,
   "metadata": {},
   "outputs": [
    {
     "name": "stdout",
     "output_type": "stream",
     "text": [
      "i to 1\n",
      "i to 3\n",
      "i to 5\n",
      "i to 43\n",
      "i to 13\n"
     ]
    }
   ],
   "source": [
    "l = [1, 3, 5, 43, 13]\n",
    "\n",
    "for x in l:\n",
    "    print('i to', x)"
   ]
  },
  {
   "cell_type": "code",
   "execution_count": 6,
   "metadata": {},
   "outputs": [],
   "source": [
    "l.append(2)\n",
    "l.append(20)"
   ]
  },
  {
   "cell_type": "code",
   "execution_count": 7,
   "metadata": {},
   "outputs": [
    {
     "data": {
      "text/plain": [
       "[1, 3, 5, 43, 13, 2, 20]"
      ]
     },
     "execution_count": 7,
     "metadata": {},
     "output_type": "execute_result"
    }
   ],
   "source": [
    "l"
   ]
  },
  {
   "cell_type": "code",
   "execution_count": 8,
   "metadata": {},
   "outputs": [
    {
     "name": "stdout",
     "output_type": "stream",
     "text": [
      "1 jest nieparzyste\n",
      "3 jest nieparzyste\n",
      "5 jest nieparzyste\n",
      "43 jest nieparzyste\n",
      "13 jest nieparzyste\n",
      "2 jest parzyste\n",
      "20 jest parzyste\n"
     ]
    }
   ],
   "source": [
    "for i in l:\n",
    "    if i % 2 == 0:\n",
    "        print(i, 'jest parzyste')\n",
    "    else:\n",
    "        print(i, 'jest nieparzyste')"
   ]
  },
  {
   "cell_type": "code",
   "execution_count": 9,
   "metadata": {},
   "outputs": [
    {
     "name": "stdout",
     "output_type": "stream",
     "text": [
      "meble.txt   \u001b[1m\u001b[36mzaj3\u001b[m\u001b[m/       \u001b[1m\u001b[36mzaj4\u001b[m\u001b[m/       zaj6.ipynb\n"
     ]
    }
   ],
   "source": [
    "ls"
   ]
  },
  {
   "cell_type": "code",
   "execution_count": null,
   "metadata": {},
   "outputs": [],
   "source": []
  }
 ],
 "metadata": {
  "kernelspec": {
   "display_name": "Python 3",
   "language": "python",
   "name": "python3"
  },
  "language_info": {
   "codemirror_mode": {
    "name": "ipython",
    "version": 3
   },
   "file_extension": ".py",
   "mimetype": "text/x-python",
   "name": "python",
   "nbconvert_exporter": "python",
   "pygments_lexer": "ipython3",
   "version": "3.7.3"
  }
 },
 "nbformat": 4,
 "nbformat_minor": 4
}
