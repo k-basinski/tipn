{
 "cells": [
  {
   "cell_type": "markdown",
   "metadata": {},
   "source": [
    "# Instrukcje warunkowe"
   ]
  },
  {
   "cell_type": "code",
   "execution_count": 1,
   "metadata": {},
   "outputs": [
    {
     "name": "stdout",
     "output_type": "stream",
     "text": [
      "Wszystko jest ok. 2 to 2.\n"
     ]
    }
   ],
   "source": [
    "if 2 == 2:\n",
    "    print(\"Wszystko jest ok. 2 to 2.\")"
   ]
  },
  {
   "cell_type": "code",
   "execution_count": 2,
   "metadata": {},
   "outputs": [],
   "source": [
    "if 2 != 2:\n",
    "    print(\"Wszystko jest ok. 2 to 2.\")"
   ]
  },
  {
   "cell_type": "code",
   "execution_count": 7,
   "metadata": {},
   "outputs": [
    {
     "name": "stdout",
     "output_type": "stream",
     "text": [
      "Warzywniak:\n"
     ]
    }
   ],
   "source": [
    "warzywo = 'kartofel'\n",
    "\n",
    "if warzywo == 'kalafior':\n",
    "    print('Mamy kalafiora!')\n",
    "    print('hurra!')\n",
    "    print('balbla!')\n",
    "    \n",
    "print('Warzywniak:')\n",
    "\n",
    "if warzywo == 'marchewka':\n",
    "    print(\"mamy marchew!\")"
   ]
  },
  {
   "cell_type": "code",
   "execution_count": 20,
   "metadata": {},
   "outputs": [],
   "source": [
    "x, y = 2**8, 3**6"
   ]
  },
  {
   "cell_type": "code",
   "execution_count": null,
   "metadata": {},
   "outputs": [],
   "source": [
    "if x > y:\n",
    "    print(x, 'jest większy niż', y)\n",
    "else:\n",
    "    print(x, 'nie jest większy niż', y)"
   ]
  },
  {
   "cell_type": "code",
   "execution_count": null,
   "metadata": {},
   "outputs": [],
   "source": []
  }
 ],
 "metadata": {
  "kernelspec": {
   "display_name": "Python 3",
   "language": "python",
   "name": "python3"
  },
  "language_info": {
   "codemirror_mode": {
    "name": "ipython",
    "version": 3
   },
   "file_extension": ".py",
   "mimetype": "text/x-python",
   "name": "python",
   "nbconvert_exporter": "python",
   "pygments_lexer": "ipython3",
   "version": "3.7.3"
  }
 },
 "nbformat": 4,
 "nbformat_minor": 4
}
