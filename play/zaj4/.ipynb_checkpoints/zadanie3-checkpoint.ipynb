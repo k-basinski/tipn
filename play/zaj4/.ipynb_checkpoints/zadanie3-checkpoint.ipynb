{
 "cells": [
  {
   "cell_type": "markdown",
   "metadata": {},
   "source": [
    "# Średnia\n",
    "Dziś będę liczyła swoją średnią z liceum"
   ]
  },
  {
   "cell_type": "code",
   "execution_count": 17,
   "metadata": {},
   "outputs": [],
   "source": [
    "polski = 6\n",
    "chemia = 4\n",
    "biologia = 3\n",
    "fizyka = 4\n",
    "geografia = 5\n",
    "angielski = 5\n",
    "francuski = 5\n",
    "matematyka = 4\n",
    "historia = 3\n",
    "wos = 6\n",
    "wf = 5"
   ]
  },
  {
   "cell_type": "code",
   "execution_count": 21,
   "metadata": {},
   "outputs": [],
   "source": [
    "suma=polski+chemia+biologia+fizyka+geografia+angielski+francuski+matematyka+historia+wos+wf"
   ]
  },
  {
   "cell_type": "code",
   "execution_count": 55,
   "metadata": {},
   "outputs": [],
   "source": [
    "srednia=suma/11"
   ]
  },
  {
   "cell_type": "code",
   "execution_count": 57,
   "metadata": {},
   "outputs": [
    {
     "name": "stdout",
     "output_type": "stream",
     "text": [
      "Moja średnia na koniec liceum to 4.545454545454546\n"
     ]
    }
   ],
   "source": [
    "print(\"Moja średnia na koniec liceum to\" , srednia )"
   ]
  }
 ],
 "metadata": {
  "kernelspec": {
   "display_name": "Python 3",
   "language": "python",
   "name": "python3"
  },
  "language_info": {
   "codemirror_mode": {
    "name": "ipython",
    "version": 3
   },
   "file_extension": ".py",
   "mimetype": "text/x-python",
   "name": "python",
   "nbconvert_exporter": "python",
   "pygments_lexer": "ipython3",
   "version": "3.7.4"
  }
 },
 "nbformat": 4,
 "nbformat_minor": 4
}
