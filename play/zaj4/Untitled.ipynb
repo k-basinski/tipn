{
 "cells": [
  {
   "cell_type": "markdown",
   "metadata": {},
   "source": [
    "# Instrukcje warunkowe"
   ]
  },
  {
   "cell_type": "code",
   "execution_count": null,
   "metadata": {},
   "outputs": [],
   "source": [
    "if 2 == 2:\n",
    "    print(\"Wszystko jest ok. 2 to 2.\")"
   ]
  },
  {
   "cell_type": "code",
   "execution_count": null,
   "metadata": {},
   "outputs": [],
   "source": [
    "if 2 != 2:\n",
    "    print(\"Wszystko jest ok. 2 to 2.\")"
   ]
  },
  {
   "cell_type": "code",
   "execution_count": null,
   "metadata": {},
   "outputs": [],
   "source": [
    "warzywo = 'kartofel'\n",
    "\n",
    "if warzywo == 'kalafior':\n",
    "    print('Mamy kalafiora!')\n",
    "    print('hurra!')\n",
    "    print('balbla!')\n",
    "    \n",
    "print('Warzywniak:')\n",
    "\n",
    "if warzywo == 'marchewka':\n",
    "    print(\"mamy marchew!\")"
   ]
  },
  {
   "cell_type": "code",
   "execution_count": 8,
   "metadata": {},
   "outputs": [],
   "source": [
    "x, y = 1,2"
   ]
  },
  {
   "cell_type": "code",
   "execution_count": 9,
   "metadata": {},
   "outputs": [
    {
     "name": "stdout",
     "output_type": "stream",
     "text": [
      "1 nie jest większy niż 2\n"
     ]
    }
   ],
   "source": [
    "if x > y:\n",
    "    print(x, 'jest większy niż', y)\n",
    "else:\n",
    "    print(x, 'nie jest większy niż', y)"
   ]
  },
  {
   "cell_type": "code",
   "execution_count": 10,
   "metadata": {},
   "outputs": [
    {
     "name": "stdout",
     "output_type": "stream",
     "text": [
      "1 jest mniejszy niż 2\n"
     ]
    }
   ],
   "source": [
    "if x > y:\n",
    "    print(x, 'jest większy niż', y)\n",
    "elif x < y:\n",
    "    print(x, 'jest mniejszy niż', y)\n",
    "else:\n",
    "    print(x, 'jest równy', y)"
   ]
  },
  {
   "cell_type": "code",
   "execution_count": 25,
   "metadata": {},
   "outputs": [],
   "source": [
    "# tu wpisz warzywo\n",
    "w = 'brukiew'"
   ]
  },
  {
   "cell_type": "code",
   "execution_count": 24,
   "metadata": {},
   "outputs": [
    {
     "name": "stdout",
     "output_type": "stream",
     "text": [
      "w to brukiew\n"
     ]
    }
   ],
   "source": [
    "if w == 'kalafior':\n",
    "    print('w to kalafior')\n",
    "\n",
    "# sprawdź, czy to marchew\n",
    "elif w == 'marchew':\n",
    "    print('w to marchew')\n",
    "    \n",
    "elif w == 'ziemniak':\n",
    "    print('w to ziemniak')\n",
    "    \n",
    "elif w == 'brukiew':\n",
    "    print('w to brukiew')\n",
    "    \n",
    "elif w == 'karczoch':\n",
    "    print('w to karczoch')\n",
    "    \n",
    "else:\n",
    "    print('cholera wie co to w.')"
   ]
  },
  {
   "cell_type": "code",
   "execution_count": 19,
   "metadata": {},
   "outputs": [
    {
     "name": "stdout",
     "output_type": "stream",
     "text": [
      "jestem bogiem pajtona\n"
     ]
    }
   ],
   "source": [
    "if not (not True and not True) and not (False or not True):\n",
    "    print(\"jestem bogiem pajtona\")"
   ]
  },
  {
   "cell_type": "code",
   "execution_count": 20,
   "metadata": {},
   "outputs": [
    {
     "name": "stdout",
     "output_type": "stream",
     "text": [
      "jest super\n"
     ]
    }
   ],
   "source": [
    "x , y = 2, 4\n",
    "\n",
    "if x < y:\n",
    "    if y % x == 0:\n",
    "        print(\"jest super\")\n",
    "else:\n",
    "    print(\"jest słabo\")"
   ]
  },
  {
   "cell_type": "code",
   "execution_count": 22,
   "metadata": {},
   "outputs": [
    {
     "data": {
      "text/plain": [
       "False"
      ]
     },
     "execution_count": 22,
     "metadata": {},
     "output_type": "execute_result"
    }
   ],
   "source": [
    "4 % 3 == 0"
   ]
  },
  {
   "cell_type": "code",
   "execution_count": null,
   "metadata": {},
   "outputs": [],
   "source": []
  }
 ],
 "metadata": {
  "kernelspec": {
   "display_name": "Python 3",
   "language": "python",
   "name": "python3"
  },
  "language_info": {
   "codemirror_mode": {
    "name": "ipython",
    "version": 3
   },
   "file_extension": ".py",
   "mimetype": "text/x-python",
   "name": "python",
   "nbconvert_exporter": "python",
   "pygments_lexer": "ipython3",
   "version": "3.7.3"
  }
 },
 "nbformat": 4,
 "nbformat_minor": 4
}
