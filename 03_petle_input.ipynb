{
 "cells": [
  {
   "cell_type": "markdown",
   "metadata": {},
   "source": [
    "# Pętle\n",
    "\n",
    "Czasem chcielibyśmy, aby nasz program wykonał jakąś rzecz kilka razy. Być może chcielibyśmy wykonać jakiś fragment kodu tak długo, aż jakiś warunek jest spełniony. W innych sytuacjach chcielibyśmy wykonać jakąś skomplikowaną operację na wszystkich elementach listy. Jak to zrobić? Do tego właśnie służą pętle.\n",
    "\n",
    "## Pętla `while`\n",
    "\n",
    "Najprostszym rodzajem pętli w Pythonie jest pętla `while`. Pętla ta wykonuje jakiś blok kodu do momentu, w którym wartość logiczna wyrażenia rozpoczynającego pętlę stanie się fałszywa. Na przykład:"
   ]
  },
  {
   "cell_type": "code",
   "execution_count": 1,
   "metadata": {},
   "outputs": [
    {
     "name": "stdout",
     "output_type": "stream",
     "text": [
      "0\n",
      "1\n",
      "2\n",
      "3\n",
      "4\n",
      "5\n",
      "6\n",
      "7\n",
      "8\n",
      "9\n"
     ]
    }
   ],
   "source": [
    "liczba = 0\n",
    "\n",
    "while liczba < 10:\n",
    "    print(liczba)\n",
    "    liczba = liczba + 1"
   ]
  },
  {
   "cell_type": "markdown",
   "metadata": {},
   "source": [
    "Jak widać, jest to bardzo podobne do instrukcji `if`. Tym razem jednak zamiast wykonywać coś raz, dany blok kodu wykonuje się tak długo, aż warunek umieszczony u góry pętli stanie się fałszywy. Inny przykład:"
   ]
  },
  {
   "cell_type": "code",
   "execution_count": 3,
   "metadata": {},
   "outputs": [
    {
     "name": "stdin",
     "output_type": "stream",
     "text": [
      "Podaj hasło! aoe\n"
     ]
    },
    {
     "name": "stdout",
     "output_type": "stream",
     "text": [
      "Wpisałeś złe hasło\n"
     ]
    },
    {
     "name": "stdin",
     "output_type": "stream",
     "text": [
      "Podaj hasło! fea\n"
     ]
    },
    {
     "name": "stdout",
     "output_type": "stream",
     "text": [
      "Wpisałeś złe hasło\n"
     ]
    },
    {
     "name": "stdin",
     "output_type": "stream",
     "text": [
      "Podaj hasło! aef\n"
     ]
    },
    {
     "name": "stdout",
     "output_type": "stream",
     "text": [
      "Wpisałeś złe hasło\n"
     ]
    },
    {
     "name": "stdin",
     "output_type": "stream",
     "text": [
      "Podaj hasło! ii\n"
     ]
    },
    {
     "name": "stdout",
     "output_type": "stream",
     "text": [
      "Wpisałeś złe hasło\n"
     ]
    },
    {
     "name": "stdin",
     "output_type": "stream",
     "text": [
      "Podaj hasło! eafs\n"
     ]
    },
    {
     "name": "stdout",
     "output_type": "stream",
     "text": [
      "Wpisałeś złe hasło\n"
     ]
    },
    {
     "name": "stdin",
     "output_type": "stream",
     "text": [
      "Podaj hasło! s\n"
     ]
    },
    {
     "name": "stdout",
     "output_type": "stream",
     "text": [
      "Wpisałeś złe hasło\n"
     ]
    },
    {
     "name": "stdin",
     "output_type": "stream",
     "text": [
      "Podaj hasło! koniec\n"
     ]
    },
    {
     "name": "stdout",
     "output_type": "stream",
     "text": [
      "Podałeś dobre hasło. Teraz dam Ci spokój.\n"
     ]
    }
   ],
   "source": [
    "haslo = input(\"Podaj hasło!\")\n",
    "\n",
    "while haslo != 'koniec':\n",
    "    print('Wpisałeś złe hasło')\n",
    "    haslo = input('Podaj hasło!')\n",
    "    \n",
    "print('Podałeś dobre hasło. Teraz dam Ci spokój.')"
   ]
  },
  {
   "cell_type": "markdown",
   "metadata": {},
   "source": [
    "Ten lekko głupawy programik domaga się podania hasła w pierwszej linijce. Hasło podane przez użytkownika umieszczane jest w zmiennej `haslo`. W pętli `while` sprawdzany jest warunek `haslo != 'koniec'`. Pętla będzie \"kręcić się\" aż do momentu, w którym użytkownik nie wpiszę słowa _koniec_. Wtedy dopiero warunek pętli zmieni wartość logiczną na `False` i pętla się zakończy.\n",
    "\n",
    "Uwaga! Pętlą `while` bardzo łatwo jest zawiesić Pythona! Jeśli przez przypadek zrobisz nieskończoną pętlę, przerwij działanie Pythona poprzez komendę _kernel -> restart kernel_ z menu górnego.\n",
    "\n",
    "## Pętla `for`\n",
    "\n",
    "Innym rodzajem pętli dostępnym w Pythonie jest pętla `for`. Pętla ta służy do przeglądania zawartości list (i innych _iterowalnych_ obiektów o których nie będziemy się uczyć na tym kursie). Zanalizuj ten prosty przykład:"
   ]
  },
  {
   "cell_type": "code",
   "execution_count": 1,
   "metadata": {},
   "outputs": [
    {
     "name": "stdout",
     "output_type": "stream",
     "text": [
      "Ania\n",
      "Basia\n",
      "Kasia\n",
      "Zosia\n",
      "Czesia\n"
     ]
    }
   ],
   "source": [
    "imiona = ['Ania', 'Basia', 'Kasia', 'Zosia', 'Czesia']\n",
    "\n",
    "for i in imiona:\n",
    "    print(i)"
   ]
  },
  {
   "cell_type": "markdown",
   "metadata": {},
   "source": [
    "Jak to działa? Najpierw deklarujemy listę złożoną z pięciu imion. Następnie pętla `for` \"zagląda\" do każdego z elementów listy po kolei i umieszcza wartość tego elementu w zmiennej `i`. Teraz mogę wykonać dowolne operację na każdym z elementów listy, ponieważ mam do niego dostęp poprzez zmienną `i`. \n",
    "\n",
    "Na marginesie: zmienna w pętli `for`, która przegląda zawartość listy to zwyczajowo `i`, ale może to być dowolna nazwa. Poniższy program robi dokładnie to samo:"
   ]
  },
  {
   "cell_type": "code",
   "execution_count": 2,
   "metadata": {},
   "outputs": [
    {
     "name": "stdout",
     "output_type": "stream",
     "text": [
      "Ania\n",
      "Basia\n",
      "Kasia\n",
      "Zosia\n",
      "Czesia\n"
     ]
    }
   ],
   "source": [
    "for imie in imiona:\n",
    "    print(imie)"
   ]
  },
  {
   "cell_type": "markdown",
   "metadata": {},
   "source": [
    "Spróbujmy teraz czegoś bardziej skomplikowanego. Załóżmy, że mamy listę imion. Chcielibyśmy się dowiedzieć, jaka jest średnia ilość liter w tych imionach. Jak to zrobić? Najpierw będziemy musieli stworzyć drugą listę, w której umieścimy długość każdego z imion. Przyda nam się do tego funkcja `len()`."
   ]
  },
  {
   "cell_type": "code",
   "execution_count": 5,
   "metadata": {},
   "outputs": [
    {
     "data": {
      "text/plain": [
       "[3, 8, 9, 4, 10, 3, 5, 3]"
      ]
     },
     "execution_count": 5,
     "metadata": {},
     "output_type": "execute_result"
    }
   ],
   "source": [
    "imiona = ['Ala', \n",
    "          'Baltazar', \n",
    "          'Zenobiusz', \n",
    "          'Maks', \n",
    "          'Konstantyn', \n",
    "          'Jaś', \n",
    "          'Gosia',\n",
    "          'Ewa']\n",
    "\n",
    "# stwórzmy pustą listę, w której trzymać będziemy długości\n",
    "dlugosc = []\n",
    "\n",
    "# dla każdego z imion znajdźmy jego długość i umieśćmy na liście\n",
    "for i in imiona:\n",
    "    dlugosc_imienia = len(i)\n",
    "    dlugosc.append(dlugosc_imienia)\n",
    "    \n",
    "dlugosc"
   ]
  },
  {
   "cell_type": "markdown",
   "metadata": {},
   "source": [
    "Ok, otrzymaliśmy listę długość, w której przechowywane są długości poszczególnych imion. Żeby uzyskać średnią, możemy zsumować elementy listy po czym podzielić wynik przez ilość tych elementów. Nic prostszego:"
   ]
  },
  {
   "cell_type": "code",
   "execution_count": 6,
   "metadata": {},
   "outputs": [
    {
     "data": {
      "text/plain": [
       "5.625"
      ]
     },
     "execution_count": 6,
     "metadata": {},
     "output_type": "execute_result"
    }
   ],
   "source": [
    "sum(dlugosc) / len(dlugosc)"
   ]
  },
  {
   "cell_type": "markdown",
   "metadata": {},
   "source": [
    "Widzimy, że nasze imiona średnio mają 5.625 litery."
   ]
  },
  {
   "cell_type": "markdown",
   "metadata": {},
   "source": [
    "## Pętla `for` a stringi\n",
    "\n",
    "Ciekawostka - nic nie stoi na przeszkodzie, żeby użyć pętli `for` na napisie. Możemy na przykład policzyć, ile liter _z_ znajduje się w jakimś stringu."
   ]
  },
  {
   "cell_type": "code",
   "execution_count": 22,
   "metadata": {},
   "outputs": [
    {
     "data": {
      "text/plain": [
       "5"
      ]
     },
     "execution_count": 22,
     "metadata": {},
     "output_type": "execute_result"
    }
   ],
   "source": [
    "napis = 'Brzęczyszczykiewicz'\n",
    "licznik = 0\n",
    "\n",
    "for i in napis:\n",
    "    if i == \"z\":\n",
    "        licznik += 1\n",
    "        \n",
    "licznik"
   ]
  },
  {
   "cell_type": "markdown",
   "metadata": {},
   "source": [
    "Jak to działa? Najpierw deklarujemy zmienną z naszym napisem i drugą zmienną, w której przechowywać będziemy wynik naszego liczenia. Piszemy pętlę `for`, która zagląda do każdej litery w napisie `napis` i sprawdza, czy litera ta to _z_. Jeżeli tak, zwiększa wartość zmiennej `licznik` o 1. \n",
    "\n",
    "Na marginesie: zapis `licznik += 1` to skrót, który jest równoznaczny z `licznik = licznik + 1`."
   ]
  },
  {
   "cell_type": "markdown",
   "metadata": {},
   "source": [
    "# Czytanie danych z pliku"
   ]
  },
  {
   "cell_type": "code",
   "execution_count": 3,
   "metadata": {},
   "outputs": [],
   "source": [
    "f = open('slowa.txt')"
   ]
  },
  {
   "cell_type": "code",
   "execution_count": 5,
   "metadata": {},
   "outputs": [
    {
     "data": {
      "text/plain": [
       "'pompa\\nrura\\nkaloryfer\\nframuga'"
      ]
     },
     "execution_count": 5,
     "metadata": {},
     "output_type": "execute_result"
    }
   ],
   "source": [
    "f = open('slowa.txt')\n",
    "f.read()"
   ]
  },
  {
   "cell_type": "code",
   "execution_count": 6,
   "metadata": {},
   "outputs": [
    {
     "data": {
      "text/plain": [
       "['pompa', 'rura', 'kaloryfer', 'framuga']"
      ]
     },
     "execution_count": 6,
     "metadata": {},
     "output_type": "execute_result"
    }
   ],
   "source": [
    "f = open('slowa.txt')\n",
    "f.read().splitlines()"
   ]
  },
  {
   "cell_type": "markdown",
   "metadata": {},
   "source": [
    "# Czytanie danych z plików, moduły\n",
    "\n",
    "Oprócz wprowadzania danych poprzez wpisywanie ich do kodu naszych programów,  możemy też (i powinniśmy!) korzystać z wielu innych sposobów wprowadzania danych. Jedną z najprostszych opcji jest pobieranie danych z plików.\n",
    "\n",
    "Okazuje się, że w Pythonie nie ma wbudowanej funkcji, która pozwalałaby otwierać pliki. Nic straconego! Oprócz niewielkiej liczby wbudowanych funkcji Python posiada setki (o ile nie tysiące) funkcji, do których możesz uzyskać dostęp poprzez tzw. _moduły_. Moduł to po prostu zbiór funkcji, które coś robią. Sporo najpopularniejszych modułów już została zainstalowana poprzez Anacondę, możesz też doinstalować nowe jeśli tylko masz na to ochotę. My teraz skorzystamy z modułu `io` (skrót od _input/output_), który służy do wykonywania operacji na plikach.\n",
    "\n",
    "Żeby skorzystać z funkcji wewnątrz modułu `io` wystarczy wpisać:"
   ]
  },
  {
   "cell_type": "code",
   "execution_count": 8,
   "metadata": {},
   "outputs": [],
   "source": [
    "import io"
   ]
  },
  {
   "cell_type": "markdown",
   "metadata": {},
   "source": [
    "Po wykonaniu tej komendy uzyskujemy dostęp do funkcji z modułu `io`. Skorzystamy teraz z funkcji z tego modułu do przeczytania danych z pliku, który stworzyłem wcześniej. Plik nazywa się `imiona.txt` i zawiera 100 najpopularniejszych imion nadawanych chłopcom w 2017 roku. Najpierw musimy otworzyć plik i umieścić go w zmiennej:"
   ]
  },
  {
   "cell_type": "code",
   "execution_count": 16,
   "metadata": {},
   "outputs": [],
   "source": [
    "plik = open('imiona.txt')"
   ]
  },
  {
   "cell_type": "markdown",
   "metadata": {},
   "source": [
    "Teraz stworzyliśmy zmienną, w której przechowywane jest odwołanie do pliku. Żeby przeczytać dane z pliku, możemy zastosować metodę `readlines()`."
   ]
  },
  {
   "cell_type": "code",
   "execution_count": 17,
   "metadata": {},
   "outputs": [
    {
     "data": {
      "text/plain": [
       "['Antoni\\n',\n",
       " 'Jakub\\n',\n",
       " 'Jan\\n',\n",
       " 'Szymon\\n',\n",
       " 'Franciszek\\n',\n",
       " 'Filip\\n',\n",
       " 'Aleksander\\n',\n",
       " 'Mikołaj\\n',\n",
       " 'Wojciech\\n',\n",
       " 'Kacper\\n',\n",
       " 'Adam\\n',\n",
       " 'Michał\\n',\n",
       " 'Marcel\\n',\n",
       " 'Stanisław\\n',\n",
       " 'Wiktor\\n',\n",
       " 'Piotr\\n',\n",
       " 'Igor\\n',\n",
       " 'Leon\\n',\n",
       " 'Nikodem\\n',\n",
       " 'Mateusz\\n',\n",
       " 'Bartosz\\n',\n",
       " 'Maksymilian\\n',\n",
       " 'Miłosz\\n',\n",
       " 'Tymon\\n',\n",
       " 'Oliwier\\n',\n",
       " 'Alan\\n',\n",
       " 'Ignacy\\n',\n",
       " 'Tymoteusz\\n',\n",
       " 'Oskar\\n',\n",
       " 'Dawid\\n',\n",
       " 'Tomasz\\n',\n",
       " 'Dominik\\n',\n",
       " 'Karol\\n',\n",
       " 'Krzysztof\\n',\n",
       " 'Maciej\\n',\n",
       " 'Julian\\n',\n",
       " 'Fabian\\n',\n",
       " 'Hubert\\n',\n",
       " 'Natan\\n',\n",
       " 'Gabriel\\n',\n",
       " 'Paweł\\n',\n",
       " 'Patryk\\n',\n",
       " 'Ksawery\\n',\n",
       " 'Kamil\\n',\n",
       " 'Bartłomiej\\n',\n",
       " 'Bruno\\n',\n",
       " 'Sebastian\\n',\n",
       " 'Krystian\\n',\n",
       " 'Borys\\n',\n",
       " 'Olaf\\n',\n",
       " 'Adrian\\n',\n",
       " 'Kajetan\\n',\n",
       " 'Kuba\\n',\n",
       " 'Artur\\n',\n",
       " 'Grzegorz\\n',\n",
       " 'Marcin\\n',\n",
       " 'Błażej\\n',\n",
       " 'Eryk\\n',\n",
       " 'Daniel\\n',\n",
       " 'Łukasz\\n',\n",
       " 'Cezary\\n',\n",
       " 'Tadeusz\\n',\n",
       " 'Damian\\n',\n",
       " 'Tobiasz\\n',\n",
       " 'Witold\\n',\n",
       " 'Rafał\\n',\n",
       " 'Robert\\n',\n",
       " 'Przemysław\\n',\n",
       " 'Kornel\\n',\n",
       " 'Radosław\\n',\n",
       " 'Olivier\\n',\n",
       " 'Konrad\\n',\n",
       " 'Emil\\n',\n",
       " 'Mieszko\\n',\n",
       " 'Jerzy\\n',\n",
       " 'Milan\\n',\n",
       " 'Henryk\\n',\n",
       " 'Nataniel\\n',\n",
       " 'Marek\\n',\n",
       " 'Stefan\\n',\n",
       " 'Alex\\n',\n",
       " 'Kazimierz\\n',\n",
       " 'Józef\\n',\n",
       " 'Gustaw\\n',\n",
       " 'Gracjan\\n',\n",
       " 'Ryszard\\n',\n",
       " 'Konstanty\\n',\n",
       " 'Andrzej\\n',\n",
       " 'Aleks\\n',\n",
       " 'Arkadiusz\\n',\n",
       " 'Dorian\\n',\n",
       " 'Leonard\\n',\n",
       " 'Brajan\\n',\n",
       " 'Teodor\\n',\n",
       " 'Alexander\\n',\n",
       " 'Juliusz\\n',\n",
       " 'Iwo\\n',\n",
       " 'Jacek\\n',\n",
       " 'Jeremi']"
      ]
     },
     "execution_count": 17,
     "metadata": {},
     "output_type": "execute_result"
    }
   ],
   "source": [
    "imiona = plik.readlines()\n",
    "imiona"
   ]
  },
  {
   "cell_type": "markdown",
   "metadata": {},
   "source": [
    "Widzimy, że metoda `readlines()` pobrała nam dane z pliku, linijka po linijce, i umieściła na liście `imiona`. Jest tylko jeden szkopuł - z jakiegoś powodu do każdego imienia mamy doklejone `\\n`. Czemu? Bo ten znak oznacza koniec linijki w pliku tekstowym (zwróć uwagę, że ostatni na liście Jeremi nie ma `\\n`). Żeby się tego pozbyć, możemy zastosować metodę `replace()`, która zamienia fragment napisu na inny napis. W pierwszym argumencie podajemy to czego ma szukać a w drugim na co ma zamienić."
   ]
  },
  {
   "cell_type": "code",
   "execution_count": 18,
   "metadata": {},
   "outputs": [],
   "source": [
    "imiona_bez_n = []\n",
    "\n",
    "for i in imiona:\n",
    "    bez_n = i.replace('\\n', '')\n",
    "    imiona_bez_n.append(bez_n)"
   ]
  },
  {
   "cell_type": "markdown",
   "metadata": {},
   "source": [
    "W porządku. Po tej operacji powinniśmy mieć już elegancką listę imion:"
   ]
  },
  {
   "cell_type": "code",
   "execution_count": 19,
   "metadata": {},
   "outputs": [
    {
     "data": {
      "text/plain": [
       "['Antoni',\n",
       " 'Jakub',\n",
       " 'Jan',\n",
       " 'Szymon',\n",
       " 'Franciszek',\n",
       " 'Filip',\n",
       " 'Aleksander',\n",
       " 'Mikołaj',\n",
       " 'Wojciech',\n",
       " 'Kacper',\n",
       " 'Adam',\n",
       " 'Michał',\n",
       " 'Marcel',\n",
       " 'Stanisław',\n",
       " 'Wiktor',\n",
       " 'Piotr',\n",
       " 'Igor',\n",
       " 'Leon',\n",
       " 'Nikodem',\n",
       " 'Mateusz',\n",
       " 'Bartosz',\n",
       " 'Maksymilian',\n",
       " 'Miłosz',\n",
       " 'Tymon',\n",
       " 'Oliwier',\n",
       " 'Alan',\n",
       " 'Ignacy',\n",
       " 'Tymoteusz',\n",
       " 'Oskar',\n",
       " 'Dawid',\n",
       " 'Tomasz',\n",
       " 'Dominik',\n",
       " 'Karol',\n",
       " 'Krzysztof',\n",
       " 'Maciej',\n",
       " 'Julian',\n",
       " 'Fabian',\n",
       " 'Hubert',\n",
       " 'Natan',\n",
       " 'Gabriel',\n",
       " 'Paweł',\n",
       " 'Patryk',\n",
       " 'Ksawery',\n",
       " 'Kamil',\n",
       " 'Bartłomiej',\n",
       " 'Bruno',\n",
       " 'Sebastian',\n",
       " 'Krystian',\n",
       " 'Borys',\n",
       " 'Olaf',\n",
       " 'Adrian',\n",
       " 'Kajetan',\n",
       " 'Kuba',\n",
       " 'Artur',\n",
       " 'Grzegorz',\n",
       " 'Marcin',\n",
       " 'Błażej',\n",
       " 'Eryk',\n",
       " 'Daniel',\n",
       " 'Łukasz',\n",
       " 'Cezary',\n",
       " 'Tadeusz',\n",
       " 'Damian',\n",
       " 'Tobiasz',\n",
       " 'Witold',\n",
       " 'Rafał',\n",
       " 'Robert',\n",
       " 'Przemysław',\n",
       " 'Kornel',\n",
       " 'Radosław',\n",
       " 'Olivier',\n",
       " 'Konrad',\n",
       " 'Emil',\n",
       " 'Mieszko',\n",
       " 'Jerzy',\n",
       " 'Milan',\n",
       " 'Henryk',\n",
       " 'Nataniel',\n",
       " 'Marek',\n",
       " 'Stefan',\n",
       " 'Alex',\n",
       " 'Kazimierz',\n",
       " 'Józef',\n",
       " 'Gustaw',\n",
       " 'Gracjan',\n",
       " 'Ryszard',\n",
       " 'Konstanty',\n",
       " 'Andrzej',\n",
       " 'Aleks',\n",
       " 'Arkadiusz',\n",
       " 'Dorian',\n",
       " 'Leonard',\n",
       " 'Brajan',\n",
       " 'Teodor',\n",
       " 'Alexander',\n",
       " 'Juliusz',\n",
       " 'Iwo',\n",
       " 'Jacek',\n",
       " 'Jeremi']"
      ]
     },
     "execution_count": 19,
     "metadata": {},
     "output_type": "execute_result"
    }
   ],
   "source": [
    "imiona_bez_n"
   ]
  },
  {
   "cell_type": "markdown",
   "metadata": {},
   "source": [
    "Z tą listą możemy już robić wszystko to, co z innymi listami. Zastanawiasz się, które miejsce na liście frekwencyjnej zajmuje tradycyjne, staropolskie imie _Brajan_? Oto odpowiedź:"
   ]
  },
  {
   "cell_type": "code",
   "execution_count": 20,
   "metadata": {},
   "outputs": [
    {
     "data": {
      "text/plain": [
       "92"
      ]
     },
     "execution_count": 20,
     "metadata": {},
     "output_type": "execute_result"
    }
   ],
   "source": [
    "imiona_bez_n.index('Brajan')"
   ]
  },
  {
   "cell_type": "code",
   "execution_count": null,
   "metadata": {},
   "outputs": [],
   "source": []
  }
 ],
 "metadata": {
  "kernelspec": {
   "display_name": "Python 3",
   "language": "python",
   "name": "python3"
  },
  "language_info": {
   "codemirror_mode": {
    "name": "ipython",
    "version": 3
   },
   "file_extension": ".py",
   "mimetype": "text/x-python",
   "name": "python",
   "nbconvert_exporter": "python",
   "pygments_lexer": "ipython3",
   "version": "3.7.3"
  }
 },
 "nbformat": 4,
 "nbformat_minor": 4
}
