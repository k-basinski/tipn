{
 "cells": [
  {
   "cell_type": "markdown",
   "metadata": {},
   "source": [
    "Notacja matematyczna:\n",
    "l = <3;6) należy do N\n",
    "\n",
    "l = 3, 4, 5"
   ]
  },
  {
   "cell_type": "markdown",
   "metadata": {},
   "source": [
    "# Interim"
   ]
  },
  {
   "cell_type": "markdown",
   "metadata": {},
   "source": [
    "### Zajęcia 5 (listy)"
   ]
  },
  {
   "cell_type": "markdown",
   "metadata": {},
   "source": [
    "1. Stwórz listę, która będzie zawierała twoje oceny z liceum. Niech to będzie 10 ocen.\n",
    "\n",
    "2. Pokaż trzecią ocenę\n",
    "\n",
    "3. Pokaż pierwsze trzy oceny\n",
    "\n",
    "4. Pokaż ostatnie trzy oceny\n",
    "\n",
    "5. Pokaż ostatnią ocenę\n",
    "\n",
    "6. Pokaż co trzecią ocenę."
   ]
  },
  {
   "cell_type": "code",
   "execution_count": 1,
   "metadata": {},
   "outputs": [],
   "source": [
    "owoce = ['śliwka',\n",
    " 'truskawka',\n",
    " 'pomarańcza',\n",
    " 'marakuja',\n",
    " 'jabłko',\n",
    " 'gruszka',\n",
    " 'czereśnia',\n",
    " 'cytryna',\n",
    " 'awokado']"
   ]
  },
  {
   "cell_type": "markdown",
   "metadata": {},
   "source": [
    "Napisz pętlę, która wyświetli ostatnie litery nazw owoców  z listy owoce."
   ]
  },
  {
   "cell_type": "markdown",
   "metadata": {},
   "source": [
    "Napisz program, który liczy **średnią długość nazwy owoców** z listy `owoce`."
   ]
  },
  {
   "cell_type": "markdown",
   "metadata": {},
   "source": [
    "## Zajęcia 6 (pliki)"
   ]
  },
  {
   "cell_type": "markdown",
   "metadata": {},
   "source": [
    "### 6.1"
   ]
  },
  {
   "cell_type": "markdown",
   "metadata": {},
   "source": [
    "Stwórz plik o nazwie `srednia.txt`. Wpisz do niego (w osobnych linijkach) swoje oceny ze świadectwa licealnego. Napisz program, który policzy średnią ocen zapisanych w pliku `srednia.txt`. \n",
    "\n",
    "Dobra rada: uważaj na typy zmiennych! Czytając z pliku, Python wszystko domyślnie czyta jako `str`. Będziesz musiał(a) w którymś momencie przerobić `str` na `int`."
   ]
  },
  {
   "cell_type": "markdown",
   "metadata": {},
   "source": [
    "### 6.2"
   ]
  },
  {
   "cell_type": "markdown",
   "metadata": {},
   "source": [
    "1. Ściągnij ze strony przedmiotu pliki `slowa.txt` i `words.txt`.\n",
    "2. Umieść każdy ze słowników na osobnej liście - `slowa` i `words`\n",
    "3. Wyświetl po kilka pierwszych wyrazów z każdego słownika\n",
    "3. Który słownik mieści więcej wyrazów?"
   ]
  },
  {
   "cell_type": "code",
   "execution_count": null,
   "metadata": {},
   "outputs": [],
   "source": []
  }
 ],
 "metadata": {
  "kernelspec": {
   "display_name": "Python 3",
   "language": "python",
   "name": "python3"
  },
  "language_info": {
   "codemirror_mode": {
    "name": "ipython",
    "version": 3
   },
   "file_extension": ".py",
   "mimetype": "text/x-python",
   "name": "python",
   "nbconvert_exporter": "python",
   "pygments_lexer": "ipython3",
   "version": "3.7.3"
  }
 },
 "nbformat": 4,
 "nbformat_minor": 4
}
